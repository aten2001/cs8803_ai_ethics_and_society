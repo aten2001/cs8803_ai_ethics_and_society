{
 "cells": [
  {
   "cell_type": "code",
   "execution_count": 1,
   "metadata": {},
   "outputs": [],
   "source": [
    "import numpy as np\n",
    "import pandas as pd\n",
    "import matplotlib.pyplot as plt"
   ]
  },
  {
   "cell_type": "code",
   "execution_count": 2,
   "metadata": {},
   "outputs": [
    {
     "name": "stderr",
     "output_type": "stream",
     "text": [
      "/Users/sagarikasrishti/anaconda3/lib/python3.7/site-packages/IPython/core/interactiveshell.py:3057: DtypeWarning: Columns (2,3,4,5,6,7,8,9,10,11,12,13,14,15,16,17,18,19,20,21,22,23,24,25,26,27,28,29,30,31,32,33,34,35,36,37,38,39,40,41,42,43,44,45,46,47,48,49,50,51) have mixed types. Specify dtype option on import or set low_memory=False.\n",
      "  interactivity=interactivity, compiler=compiler, result=result)\n"
     ]
    }
   ],
   "source": [
    "df = pd.read_csv(\"toxity_per_attribute-1.csv\")"
   ]
  },
  {
   "cell_type": "code",
   "execution_count": 3,
   "metadata": {},
   "outputs": [
    {
     "data": {
      "text/plain": [
       "Index(['Wiki_ID', 'TOXICITY', 'lesbian', 'gay', 'bisexual', 'transgender',\n",
       "       'trans', 'queer', 'lgbt', 'lgbtq', 'homosexual', 'straight',\n",
       "       'heterosexual', 'male', 'female', 'nonbinary', 'african',\n",
       "       'african american', 'black', 'white', 'european', 'hispanic', 'latino',\n",
       "       'latina', 'latinx', 'mexican', 'canadian', 'american', 'asian',\n",
       "       'indian', 'middle eastern', 'chinese', 'japanese', 'christian',\n",
       "       'muslim', 'jewish', 'buddhist', 'catholic', 'protestant', 'sikh',\n",
       "       'taoist', 'old', 'older', 'young', 'younger', 'teenage', 'millenial',\n",
       "       'middle aged', 'elderly', 'blind', 'deaf', 'paralyzed'],\n",
       "      dtype='object')"
      ]
     },
     "execution_count": 3,
     "metadata": {},
     "output_type": "execute_result"
    }
   ],
   "source": [
    "df.columns"
   ]
  },
  {
   "cell_type": "code",
   "execution_count": 4,
   "metadata": {},
   "outputs": [
    {
     "data": {
      "text/plain": [
       "76565"
      ]
     },
     "execution_count": 4,
     "metadata": {},
     "output_type": "execute_result"
    }
   ],
   "source": [
    "len(df)"
   ]
  },
  {
   "cell_type": "code",
   "execution_count": 5,
   "metadata": {},
   "outputs": [],
   "source": [
    "#removing unwanted entries\n",
    "df = df[df.TOXICITY <= 1.0]"
   ]
  },
  {
   "cell_type": "code",
   "execution_count": 6,
   "metadata": {},
   "outputs": [
    {
     "data": {
      "text/plain": [
       "76564"
      ]
     },
     "execution_count": 6,
     "metadata": {},
     "output_type": "execute_result"
    }
   ],
   "source": [
    "len(df)"
   ]
  },
  {
   "cell_type": "code",
   "execution_count": 7,
   "metadata": {
    "scrolled": true
   },
   "outputs": [
    {
     "name": "stdout",
     "output_type": "stream",
     "text": [
      "Wiki_ID [0.0000e+00 1.0000e+00 2.0000e+00 ... 7.6561e+04 7.6562e+04 7.6563e+04]\n",
      "TOXICITY [0.09649246 0.01799141 0.15029785 ... 0.95901865 0.02608007 0.09634702]\n",
      "lesbian [False True]\n",
      "gay [False True]\n",
      "bisexual [False True]\n",
      "transgender [False True]\n",
      "trans [False True]\n",
      "queer [False True]\n",
      "lgbt [False True]\n",
      "lgbtq [False True]\n",
      "homosexual [False True]\n",
      "straight [False True]\n",
      "heterosexual [False True]\n",
      "male [False True]\n",
      "female [False True]\n",
      "nonbinary [False True]\n",
      "african [False True]\n",
      "african american [False True]\n",
      "black [False True]\n",
      "white [False True]\n",
      "european [False True]\n",
      "hispanic [False True]\n",
      "latino [False True]\n",
      "latina [False True]\n",
      "latinx [False True]\n",
      "mexican [False True]\n",
      "canadian [False True]\n",
      "american [True False]\n",
      "asian [False True]\n",
      "indian [False True]\n",
      "middle eastern [False True]\n",
      "chinese [False True]\n",
      "japanese [False True]\n",
      "christian [False True]\n",
      "muslim [False True]\n",
      "jewish [False True]\n",
      "buddhist [False True]\n",
      "catholic [False True]\n",
      "protestant [False True]\n",
      "sikh [False True]\n",
      "taoist [False True]\n",
      "old [False True]\n",
      "older [False True]\n",
      "young [False True]\n",
      "younger [False True]\n",
      "teenage [False True]\n",
      "millenial [False True]\n",
      "middle aged [False True]\n",
      "elderly [False True]\n",
      "blind [False True]\n",
      "deaf [False True]\n",
      "paralyzed [False True]\n"
     ]
    }
   ],
   "source": [
    "for i in list(df):\n",
    "    print(i, df[i].unique())"
   ]
  },
  {
   "cell_type": "code",
   "execution_count": 8,
   "metadata": {},
   "outputs": [],
   "source": [
    "#Step 2\n",
    "for index,row in df.iterrows():\n",
    "    if row['lesbian'] == False:\n",
    "        df.at[index,'lesbian'] = 0.0\n",
    "    if row['lesbian'] == True:\n",
    "        df.at[index,'lesbian'] = 1.0\n",
    "        \n",
    "    if row['gay'] == False:\n",
    "        df.at[index,'gay'] = 0.0\n",
    "    if row['gay'] == True:\n",
    "        df.at[index,'gay'] = 2.0\n",
    "        \n",
    "    if row['bisexual'] == False:\n",
    "        df.at[index,'bisexual'] = 0.0\n",
    "    if row['bisexual'] == True:\n",
    "        df.at[index,'bisexual'] = 3.0\n",
    "        \n",
    "    if row['queer'] == False:\n",
    "        df.at[index,'queer'] = 0.0\n",
    "    if row['queer'] == True:\n",
    "        df.at[index,'queer'] = 4.0\n",
    "        \n",
    "    if row['lgbt'] == False:\n",
    "        df.at[index,'lgbt'] = 0.0\n",
    "    if row['lgbt'] == True:\n",
    "        df.at[index,'lgbt'] = 5.0\n",
    "        \n",
    "    if row['lgbtq'] == False:\n",
    "        df.at[index,'lgbtq'] = 0.0\n",
    "    if row['lgbtq'] == True:\n",
    "        df.at[index,'lgbtq'] = 6.0\n",
    "        \n",
    "    if row['homosexual'] == False:\n",
    "        df.at[index,'homosexual'] = 0.0\n",
    "    if row['homosexual'] == True:\n",
    "        df.at[index,'homosexual'] = 7.0\n",
    "        \n",
    "    if row['straight'] == False:\n",
    "        df.at[index,'straight'] = 0.0\n",
    "    if row['straight'] == True:\n",
    "        df.at[index,'straight'] = 8.0\n",
    "        \n",
    "    if row['heterosexual'] == False:\n",
    "        df.at[index,'heterosexual'] = 0.0\n",
    "    if row['heterosexual'] == True:\n",
    "        df.at[index,'heterosexual'] = 9.0\n",
    "        \n",
    "    if row['transgender'] == False:\n",
    "        df.at[index,'transgender'] = 0.0\n",
    "    if row['transgender'] == True:\n",
    "        df.at[index,'transgender'] = 1.0\n",
    "        \n",
    "    if row['trans'] == False:\n",
    "        df.at[index,'trans'] = 0.0\n",
    "    if row['trans'] == True:\n",
    "        df.at[index,'trans'] = 2.0\n",
    "    \n",
    "    if row['male'] == False:\n",
    "        df.at[index,'male'] = 0.0\n",
    "    if row['male'] == True:\n",
    "        df.at[index,'male'] = 3.0\n",
    "        \n",
    "    if row['female'] == False:\n",
    "        df.at[index,'female'] = 0.0\n",
    "    if row['female'] == True:\n",
    "        df.at[index,'female'] = 4.0\n",
    "        \n",
    "    if row['nonbinary'] == False:\n",
    "        df.at[index,'nonbinary'] = 0.0\n",
    "    if row['nonbinary'] == True:\n",
    "        df.at[index,'nonbinary'] = 5.0\n",
    "        \n",
    "    if row['african'] == False:\n",
    "        df.at[index,'african'] = 0.0\n",
    "    if row['african'] == True:\n",
    "        df.at[index,'african'] = 1.0\n",
    "        \n",
    "    if row['european'] == False:\n",
    "        df.at[index,'european'] = 0.0\n",
    "    if row['european'] == True:\n",
    "        df.at[index,'european'] = 2.0\n",
    "        \n",
    "    if row['hispanic'] == False:\n",
    "        df.at[index,'hispanic'] = 0.0\n",
    "    if row['hispanic'] == True:\n",
    "        df.at[index,'hispanic'] = 3.0\n",
    "        \n",
    "    if row['latino'] == False:\n",
    "        df.at[index,'latino'] = 0.0\n",
    "    if row['latino'] == True:\n",
    "        df.at[index,'latino'] = 4.0\n",
    "        \n",
    "    if row['latina'] == False:\n",
    "        df.at[index,'latina'] = 0.0\n",
    "    if row['latina'] == True:\n",
    "        df.at[index,'latina'] = 5.0\n",
    "        \n",
    "    if row['latinx'] == False:\n",
    "        df.at[index,'latinx'] = 0.0\n",
    "    if row['latinx'] == True:\n",
    "        df.at[index,'latinx'] = 6.0\n",
    "        \n",
    "    if row['middle eastern'] == False:\n",
    "        df.at[index,'middle eastern'] = 0.0\n",
    "    if row['middle eastern'] == True:\n",
    "        df.at[index,'middle eastern'] = 7.0\n",
    "        \n",
    "    if row['mexican'] == False:\n",
    "        df.at[index,'mexican'] = 0.0\n",
    "    if row['mexican'] == True:\n",
    "        df.at[index,'mexican'] = 1.0\n",
    "        \n",
    "    if row['canadian'] == False:\n",
    "        df.at[index,'canadian'] = 0.0\n",
    "    if row['canadian'] == True:\n",
    "        df.at[index,'canadian'] = 2.0\n",
    "        \n",
    "    if row['american'] == False:\n",
    "        df.at[index,'american'] = 0.0\n",
    "    if row['american'] == True:\n",
    "        df.at[index,'american'] = 3.0\n",
    "        \n",
    "    if row['indian'] == False:\n",
    "        df.at[index,'indian'] = 0.0\n",
    "    if row['indian'] == True:\n",
    "        df.at[index,'indian'] = 4.0\n",
    "        \n",
    "    if row['chinese'] == False:\n",
    "        df.at[index,'chinese'] = 0.0\n",
    "    if row['chinese'] == True:\n",
    "        df.at[index,'chinese'] = 5.0\n",
    "        \n",
    "    if row['japanese'] == False:\n",
    "        df.at[index,'japanese'] = 0.0\n",
    "    if row['japanese'] == True:\n",
    "        df.at[index,'japanese'] = 6.0\n",
    "        \n",
    "    if row['christian'] == False:\n",
    "        df.at[index,'christian'] = 0.0\n",
    "    if row['christian'] == True:\n",
    "        df.at[index,'christian'] = 1.0\n",
    "        \n",
    "    if row['muslim'] == False:\n",
    "        df.at[index,'muslim'] = 0.0\n",
    "    if row['muslim'] == True:\n",
    "        df.at[index,'muslim'] = 2.0\n",
    "        \n",
    "    if row['jewish'] == False:\n",
    "        df.at[index,'jewish'] = 0.0\n",
    "    if row['jewish'] == True:\n",
    "        df.at[index,'jewish'] = 3.0\n",
    "        \n",
    "    if row['buddhist'] == False:\n",
    "        df.at[index,'buddhist'] = 0.0\n",
    "    if row['buddhist'] == True:\n",
    "        df.at[index,'buddhist'] = 4.0\n",
    "        \n",
    "    if row['catholic'] == False:\n",
    "        df.at[index,'catholic'] = 0.0\n",
    "    if row['catholic'] == True:\n",
    "        df.at[index,'catholic'] = 5.0\n",
    "        \n",
    "    if row['protestant'] == False:\n",
    "        df.at[index,'protestant'] = 0.0\n",
    "    if row['protestant'] == True:\n",
    "        df.at[index,'protestant'] = 6.0\n",
    "        \n",
    "    if row['sikh'] == False:\n",
    "        df.at[index,'sikh'] = 0.0\n",
    "    if row['sikh'] == True:\n",
    "        df.at[index,'sikh'] = 7.0\n",
    "        \n",
    "    if row['taoist'] == False:\n",
    "        df.at[index,'taoist'] = 0.0\n",
    "    if row['taoist'] == True:\n",
    "        df.at[index,'taoist'] = 8.0\n",
    "        \n",
    "    if row['old'] == False:\n",
    "        df.at[index,'old'] = 0.0\n",
    "    if row['old'] == True:\n",
    "        df.at[index,'old'] = 1.0\n",
    "        \n",
    "    if row['older'] == False:\n",
    "        df.at[index,'older'] = 0.0\n",
    "    if row['older'] == True:\n",
    "        df.at[index,'older'] = 2.0\n",
    "        \n",
    "    if row['young'] == False:\n",
    "        df.at[index,'young'] = 0.0\n",
    "    if row['young'] == True:\n",
    "        df.at[index,'young'] = 3.0\n",
    "        \n",
    "    if row['younger'] == False:\n",
    "        df.at[index,'younger'] = 0.0\n",
    "    if row['younger'] == True:\n",
    "        df.at[index,'younger'] = 4.0\n",
    "        \n",
    "    if row['teenage'] == False:\n",
    "        df.at[index,'teenage'] = 0.0\n",
    "    if row['teenage'] == True:\n",
    "        df.at[index,'teenage'] = 5.0\n",
    "        \n",
    "    if row['millenial'] == False:\n",
    "        df.at[index,'millenial'] = 0.0\n",
    "    if row['millenial'] == True:\n",
    "        df.at[index,'millenial'] = 6.0\n",
    "        \n",
    "    if row['middle aged'] == False:\n",
    "        df.at[index,'middle aged'] = 0.0\n",
    "    if row['middle aged'] == True:\n",
    "        df.at[index,'middle aged'] = 7.0\n",
    "        \n",
    "    if row['elderly'] == False:\n",
    "        df.at[index,'elderly'] = 0.0\n",
    "    if row['elderly'] == True:\n",
    "        df.at[index,'elderly'] = 8.0\n",
    "        \n",
    "    if row['blind'] == False:\n",
    "        df.at[index,'blind'] = 0.0\n",
    "    if row['blind'] == True:\n",
    "        df.at[index,'blind'] = 1.0\n",
    "        \n",
    "    if row['deaf'] == False:\n",
    "        df.at[index,'deaf'] = 0.0\n",
    "    if row['deaf'] == True:\n",
    "        df.at[index,'deaf'] = 2.0\n",
    "        \n",
    "    if row['paralyzed'] == False:\n",
    "        df.at[index,'paralyzed'] = 0.0\n",
    "    if row['paralyzed'] == True:\n",
    "        df.at[index,'paralyzed'] = 3.0\n",
    "        \n",
    "    if row['african american'] == False:\n",
    "        df.at[index,'african american'] = 0.0\n",
    "    if row['african american'] == True:\n",
    "        df.at[index,'african american'] = 1.0\n",
    "        \n",
    "    if row['black'] == False:\n",
    "        df.at[index,'black'] = 0.0\n",
    "    if row['black'] == True:\n",
    "        df.at[index,'black'] = 2.0\n",
    "        \n",
    "    if row['white'] == False:\n",
    "        df.at[index,'white'] = 0.0\n",
    "    if row['white'] == True:\n",
    "        df.at[index,'white'] = 3.0\n",
    "        \n",
    "    if row['asian'] == False:\n",
    "        df.at[index,'asian'] = 0.0\n",
    "    if row['asian'] == True:\n",
    "        df.at[index,'asian'] = 4.0"
   ]
  },
  {
   "cell_type": "code",
   "execution_count": 9,
   "metadata": {},
   "outputs": [
    {
     "data": {
      "text/html": [
       "<div>\n",
       "<style scoped>\n",
       "    .dataframe tbody tr th:only-of-type {\n",
       "        vertical-align: middle;\n",
       "    }\n",
       "\n",
       "    .dataframe tbody tr th {\n",
       "        vertical-align: top;\n",
       "    }\n",
       "\n",
       "    .dataframe thead th {\n",
       "        text-align: right;\n",
       "    }\n",
       "</style>\n",
       "<table border=\"1\" class=\"dataframe\">\n",
       "  <thead>\n",
       "    <tr style=\"text-align: right;\">\n",
       "      <th></th>\n",
       "      <th>Wiki_ID</th>\n",
       "      <th>TOXICITY</th>\n",
       "      <th>lesbian</th>\n",
       "      <th>gay</th>\n",
       "      <th>bisexual</th>\n",
       "      <th>transgender</th>\n",
       "      <th>trans</th>\n",
       "      <th>queer</th>\n",
       "      <th>lgbt</th>\n",
       "      <th>lgbtq</th>\n",
       "      <th>...</th>\n",
       "      <th>older</th>\n",
       "      <th>young</th>\n",
       "      <th>younger</th>\n",
       "      <th>teenage</th>\n",
       "      <th>millenial</th>\n",
       "      <th>middle aged</th>\n",
       "      <th>elderly</th>\n",
       "      <th>blind</th>\n",
       "      <th>deaf</th>\n",
       "      <th>paralyzed</th>\n",
       "    </tr>\n",
       "  </thead>\n",
       "  <tbody>\n",
       "    <tr>\n",
       "      <th>0</th>\n",
       "      <td>0.0</td>\n",
       "      <td>0.096492</td>\n",
       "      <td>0</td>\n",
       "      <td>0</td>\n",
       "      <td>0</td>\n",
       "      <td>0</td>\n",
       "      <td>0</td>\n",
       "      <td>0</td>\n",
       "      <td>0</td>\n",
       "      <td>0</td>\n",
       "      <td>...</td>\n",
       "      <td>0</td>\n",
       "      <td>0</td>\n",
       "      <td>0</td>\n",
       "      <td>0</td>\n",
       "      <td>0</td>\n",
       "      <td>0</td>\n",
       "      <td>0</td>\n",
       "      <td>0</td>\n",
       "      <td>0</td>\n",
       "      <td>0</td>\n",
       "    </tr>\n",
       "    <tr>\n",
       "      <th>1</th>\n",
       "      <td>1.0</td>\n",
       "      <td>0.017991</td>\n",
       "      <td>0</td>\n",
       "      <td>0</td>\n",
       "      <td>0</td>\n",
       "      <td>0</td>\n",
       "      <td>2</td>\n",
       "      <td>0</td>\n",
       "      <td>0</td>\n",
       "      <td>0</td>\n",
       "      <td>...</td>\n",
       "      <td>0</td>\n",
       "      <td>0</td>\n",
       "      <td>0</td>\n",
       "      <td>0</td>\n",
       "      <td>0</td>\n",
       "      <td>0</td>\n",
       "      <td>0</td>\n",
       "      <td>0</td>\n",
       "      <td>0</td>\n",
       "      <td>0</td>\n",
       "    </tr>\n",
       "    <tr>\n",
       "      <th>2</th>\n",
       "      <td>2.0</td>\n",
       "      <td>0.150298</td>\n",
       "      <td>0</td>\n",
       "      <td>0</td>\n",
       "      <td>0</td>\n",
       "      <td>0</td>\n",
       "      <td>0</td>\n",
       "      <td>0</td>\n",
       "      <td>0</td>\n",
       "      <td>0</td>\n",
       "      <td>...</td>\n",
       "      <td>0</td>\n",
       "      <td>0</td>\n",
       "      <td>0</td>\n",
       "      <td>0</td>\n",
       "      <td>0</td>\n",
       "      <td>0</td>\n",
       "      <td>0</td>\n",
       "      <td>0</td>\n",
       "      <td>0</td>\n",
       "      <td>0</td>\n",
       "    </tr>\n",
       "    <tr>\n",
       "      <th>3</th>\n",
       "      <td>3.0</td>\n",
       "      <td>0.065861</td>\n",
       "      <td>0</td>\n",
       "      <td>0</td>\n",
       "      <td>0</td>\n",
       "      <td>0</td>\n",
       "      <td>0</td>\n",
       "      <td>0</td>\n",
       "      <td>0</td>\n",
       "      <td>0</td>\n",
       "      <td>...</td>\n",
       "      <td>0</td>\n",
       "      <td>0</td>\n",
       "      <td>0</td>\n",
       "      <td>0</td>\n",
       "      <td>0</td>\n",
       "      <td>0</td>\n",
       "      <td>0</td>\n",
       "      <td>0</td>\n",
       "      <td>0</td>\n",
       "      <td>0</td>\n",
       "    </tr>\n",
       "    <tr>\n",
       "      <th>4</th>\n",
       "      <td>4.0</td>\n",
       "      <td>0.667166</td>\n",
       "      <td>0</td>\n",
       "      <td>0</td>\n",
       "      <td>0</td>\n",
       "      <td>0</td>\n",
       "      <td>0</td>\n",
       "      <td>0</td>\n",
       "      <td>0</td>\n",
       "      <td>0</td>\n",
       "      <td>...</td>\n",
       "      <td>0</td>\n",
       "      <td>0</td>\n",
       "      <td>0</td>\n",
       "      <td>0</td>\n",
       "      <td>0</td>\n",
       "      <td>0</td>\n",
       "      <td>0</td>\n",
       "      <td>0</td>\n",
       "      <td>0</td>\n",
       "      <td>0</td>\n",
       "    </tr>\n",
       "  </tbody>\n",
       "</table>\n",
       "<p>5 rows × 52 columns</p>\n",
       "</div>"
      ],
      "text/plain": [
       "   Wiki_ID  TOXICITY lesbian gay bisexual transgender trans queer lgbt lgbtq  \\\n",
       "0      0.0  0.096492       0   0        0           0     0     0    0     0   \n",
       "1      1.0  0.017991       0   0        0           0     2     0    0     0   \n",
       "2      2.0  0.150298       0   0        0           0     0     0    0     0   \n",
       "3      3.0  0.065861       0   0        0           0     0     0    0     0   \n",
       "4      4.0  0.667166       0   0        0           0     0     0    0     0   \n",
       "\n",
       "   ... older young younger teenage millenial middle aged elderly blind deaf  \\\n",
       "0  ...     0     0       0       0         0           0       0     0    0   \n",
       "1  ...     0     0       0       0         0           0       0     0    0   \n",
       "2  ...     0     0       0       0         0           0       0     0    0   \n",
       "3  ...     0     0       0       0         0           0       0     0    0   \n",
       "4  ...     0     0       0       0         0           0       0     0    0   \n",
       "\n",
       "  paralyzed  \n",
       "0         0  \n",
       "1         0  \n",
       "2         0  \n",
       "3         0  \n",
       "4         0  \n",
       "\n",
       "[5 rows x 52 columns]"
      ]
     },
     "execution_count": 9,
     "metadata": {},
     "output_type": "execute_result"
    }
   ],
   "source": [
    "df.head()"
   ]
  },
  {
   "cell_type": "code",
   "execution_count": 10,
   "metadata": {
    "scrolled": true
   },
   "outputs": [
    {
     "name": "stdout",
     "output_type": "stream",
     "text": [
      "Wiki_ID [0.0000e+00 1.0000e+00 2.0000e+00 ... 7.6561e+04 7.6562e+04 7.6563e+04]\n",
      "TOXICITY [0.09649246 0.01799141 0.15029785 ... 0.95901865 0.02608007 0.09634702]\n",
      "lesbian [0.0 1.0]\n",
      "gay [0.0 2.0]\n",
      "bisexual [0.0 3.0]\n",
      "transgender [0.0 1.0]\n",
      "trans [0.0 2.0]\n",
      "queer [0.0 4.0]\n",
      "lgbt [0.0 5.0]\n",
      "lgbtq [0.0 6.0]\n",
      "homosexual [0.0 7.0]\n",
      "straight [0.0 8.0]\n",
      "heterosexual [0.0 9.0]\n",
      "male [0.0 3.0]\n",
      "female [0.0 4.0]\n",
      "nonbinary [0.0 5.0]\n",
      "african [0.0 1.0]\n",
      "african american [0.0 1.0]\n",
      "black [0.0 2.0]\n",
      "white [0.0 3.0]\n",
      "european [0.0 2.0]\n",
      "hispanic [0.0 3.0]\n",
      "latino [0.0 4.0]\n",
      "latina [0.0 5.0]\n",
      "latinx [0.0 6.0]\n",
      "mexican [0.0 1.0]\n",
      "canadian [0.0 2.0]\n",
      "american [3.0 0.0]\n",
      "asian [0.0 4.0]\n",
      "indian [0.0 4.0]\n",
      "middle eastern [0.0 7.0]\n",
      "chinese [0.0 5.0]\n",
      "japanese [0.0 6.0]\n",
      "christian [0.0 1.0]\n",
      "muslim [0.0 2.0]\n",
      "jewish [0.0 3.0]\n",
      "buddhist [0.0 4.0]\n",
      "catholic [0.0 5.0]\n",
      "protestant [0.0 6.0]\n",
      "sikh [0.0 7.0]\n",
      "taoist [0.0 8.0]\n",
      "old [0.0 1.0]\n",
      "older [0.0 2.0]\n",
      "young [0.0 3.0]\n",
      "younger [0.0 4.0]\n",
      "teenage [0.0 5.0]\n",
      "millenial [0.0 6.0]\n",
      "middle aged [0.0 7.0]\n",
      "elderly [0.0 8.0]\n",
      "blind [0.0 1.0]\n",
      "deaf [0.0 2.0]\n",
      "paralyzed [0.0 3.0]\n"
     ]
    }
   ],
   "source": [
    "for i in list(df):\n",
    "    print(i, df[i].unique())"
   ]
  },
  {
   "cell_type": "code",
   "execution_count": 11,
   "metadata": {},
   "outputs": [
    {
     "data": {
      "text/html": [
       "<div>\n",
       "<style scoped>\n",
       "    .dataframe tbody tr th:only-of-type {\n",
       "        vertical-align: middle;\n",
       "    }\n",
       "\n",
       "    .dataframe tbody tr th {\n",
       "        vertical-align: top;\n",
       "    }\n",
       "\n",
       "    .dataframe thead th {\n",
       "        text-align: right;\n",
       "    }\n",
       "</style>\n",
       "<table border=\"1\" class=\"dataframe\">\n",
       "  <thead>\n",
       "    <tr style=\"text-align: right;\">\n",
       "      <th></th>\n",
       "      <th>Wiki_ID</th>\n",
       "      <th>TOXICITY</th>\n",
       "      <th>lesbian</th>\n",
       "      <th>gay</th>\n",
       "      <th>bisexual</th>\n",
       "      <th>transgender</th>\n",
       "      <th>trans</th>\n",
       "      <th>queer</th>\n",
       "      <th>lgbt</th>\n",
       "      <th>lgbtq</th>\n",
       "      <th>...</th>\n",
       "      <th>older</th>\n",
       "      <th>young</th>\n",
       "      <th>younger</th>\n",
       "      <th>teenage</th>\n",
       "      <th>millenial</th>\n",
       "      <th>middle aged</th>\n",
       "      <th>elderly</th>\n",
       "      <th>blind</th>\n",
       "      <th>deaf</th>\n",
       "      <th>paralyzed</th>\n",
       "    </tr>\n",
       "  </thead>\n",
       "  <tbody>\n",
       "    <tr>\n",
       "      <th>0</th>\n",
       "      <td>0.0</td>\n",
       "      <td>0.096492</td>\n",
       "      <td>0</td>\n",
       "      <td>0</td>\n",
       "      <td>0</td>\n",
       "      <td>0</td>\n",
       "      <td>0</td>\n",
       "      <td>0</td>\n",
       "      <td>0</td>\n",
       "      <td>0</td>\n",
       "      <td>...</td>\n",
       "      <td>0</td>\n",
       "      <td>0</td>\n",
       "      <td>0</td>\n",
       "      <td>0</td>\n",
       "      <td>0</td>\n",
       "      <td>0</td>\n",
       "      <td>0</td>\n",
       "      <td>0</td>\n",
       "      <td>0</td>\n",
       "      <td>0</td>\n",
       "    </tr>\n",
       "    <tr>\n",
       "      <th>1</th>\n",
       "      <td>1.0</td>\n",
       "      <td>0.017991</td>\n",
       "      <td>0</td>\n",
       "      <td>0</td>\n",
       "      <td>0</td>\n",
       "      <td>0</td>\n",
       "      <td>2</td>\n",
       "      <td>0</td>\n",
       "      <td>0</td>\n",
       "      <td>0</td>\n",
       "      <td>...</td>\n",
       "      <td>0</td>\n",
       "      <td>0</td>\n",
       "      <td>0</td>\n",
       "      <td>0</td>\n",
       "      <td>0</td>\n",
       "      <td>0</td>\n",
       "      <td>0</td>\n",
       "      <td>0</td>\n",
       "      <td>0</td>\n",
       "      <td>0</td>\n",
       "    </tr>\n",
       "    <tr>\n",
       "      <th>2</th>\n",
       "      <td>2.0</td>\n",
       "      <td>0.150298</td>\n",
       "      <td>0</td>\n",
       "      <td>0</td>\n",
       "      <td>0</td>\n",
       "      <td>0</td>\n",
       "      <td>0</td>\n",
       "      <td>0</td>\n",
       "      <td>0</td>\n",
       "      <td>0</td>\n",
       "      <td>...</td>\n",
       "      <td>0</td>\n",
       "      <td>0</td>\n",
       "      <td>0</td>\n",
       "      <td>0</td>\n",
       "      <td>0</td>\n",
       "      <td>0</td>\n",
       "      <td>0</td>\n",
       "      <td>0</td>\n",
       "      <td>0</td>\n",
       "      <td>0</td>\n",
       "    </tr>\n",
       "    <tr>\n",
       "      <th>3</th>\n",
       "      <td>3.0</td>\n",
       "      <td>0.065861</td>\n",
       "      <td>0</td>\n",
       "      <td>0</td>\n",
       "      <td>0</td>\n",
       "      <td>0</td>\n",
       "      <td>0</td>\n",
       "      <td>0</td>\n",
       "      <td>0</td>\n",
       "      <td>0</td>\n",
       "      <td>...</td>\n",
       "      <td>0</td>\n",
       "      <td>0</td>\n",
       "      <td>0</td>\n",
       "      <td>0</td>\n",
       "      <td>0</td>\n",
       "      <td>0</td>\n",
       "      <td>0</td>\n",
       "      <td>0</td>\n",
       "      <td>0</td>\n",
       "      <td>0</td>\n",
       "    </tr>\n",
       "    <tr>\n",
       "      <th>4</th>\n",
       "      <td>4.0</td>\n",
       "      <td>0.667166</td>\n",
       "      <td>0</td>\n",
       "      <td>0</td>\n",
       "      <td>0</td>\n",
       "      <td>0</td>\n",
       "      <td>0</td>\n",
       "      <td>0</td>\n",
       "      <td>0</td>\n",
       "      <td>0</td>\n",
       "      <td>...</td>\n",
       "      <td>0</td>\n",
       "      <td>0</td>\n",
       "      <td>0</td>\n",
       "      <td>0</td>\n",
       "      <td>0</td>\n",
       "      <td>0</td>\n",
       "      <td>0</td>\n",
       "      <td>0</td>\n",
       "      <td>0</td>\n",
       "      <td>0</td>\n",
       "    </tr>\n",
       "  </tbody>\n",
       "</table>\n",
       "<p>5 rows × 52 columns</p>\n",
       "</div>"
      ],
      "text/plain": [
       "   Wiki_ID  TOXICITY lesbian gay bisexual transgender trans queer lgbt lgbtq  \\\n",
       "0      0.0  0.096492       0   0        0           0     0     0    0     0   \n",
       "1      1.0  0.017991       0   0        0           0     2     0    0     0   \n",
       "2      2.0  0.150298       0   0        0           0     0     0    0     0   \n",
       "3      3.0  0.065861       0   0        0           0     0     0    0     0   \n",
       "4      4.0  0.667166       0   0        0           0     0     0    0     0   \n",
       "\n",
       "   ... older young younger teenage millenial middle aged elderly blind deaf  \\\n",
       "0  ...     0     0       0       0         0           0       0     0    0   \n",
       "1  ...     0     0       0       0         0           0       0     0    0   \n",
       "2  ...     0     0       0       0         0           0       0     0    0   \n",
       "3  ...     0     0       0       0         0           0       0     0    0   \n",
       "4  ...     0     0       0       0         0           0       0     0    0   \n",
       "\n",
       "  paralyzed  \n",
       "0         0  \n",
       "1         0  \n",
       "2         0  \n",
       "3         0  \n",
       "4         0  \n",
       "\n",
       "[5 rows x 52 columns]"
      ]
     },
     "execution_count": 11,
     "metadata": {},
     "output_type": "execute_result"
    }
   ],
   "source": [
    "df.head()"
   ]
  },
  {
   "cell_type": "code",
   "execution_count": 12,
   "metadata": {},
   "outputs": [
    {
     "data": {
      "text/plain": [
       "Index(['Wiki_ID', 'TOXICITY', 'lesbian', 'gay', 'bisexual', 'transgender',\n",
       "       'trans', 'queer', 'lgbt', 'lgbtq', 'homosexual', 'straight',\n",
       "       'heterosexual', 'male', 'female', 'nonbinary', 'african',\n",
       "       'african american', 'black', 'white', 'european', 'hispanic', 'latino',\n",
       "       'latina', 'latinx', 'mexican', 'canadian', 'american', 'asian',\n",
       "       'indian', 'middle eastern', 'chinese', 'japanese', 'christian',\n",
       "       'muslim', 'jewish', 'buddhist', 'catholic', 'protestant', 'sikh',\n",
       "       'taoist', 'old', 'older', 'young', 'younger', 'teenage', 'millenial',\n",
       "       'middle aged', 'elderly', 'blind', 'deaf', 'paralyzed'],\n",
       "      dtype='object')"
      ]
     },
     "execution_count": 12,
     "metadata": {},
     "output_type": "execute_result"
    }
   ],
   "source": [
    "df.columns"
   ]
  },
  {
   "cell_type": "code",
   "execution_count": 13,
   "metadata": {},
   "outputs": [],
   "source": [
    "#Step 3:\n",
    "df['sexual orientation'] = df['lesbian'] + df['gay'] + df['bisexual'] + df['lgbt'] + df['lgbtq'] + df['homosexual'] + \\\n",
    "                            df['straight'] + df['heterosexual']"
   ]
  },
  {
   "cell_type": "code",
   "execution_count": 14,
   "metadata": {},
   "outputs": [],
   "source": [
    "df['sex'] = df['transgender'] + df['trans'] + df['queer'] + df['male'] + df['female'] + df['nonbinary']"
   ]
  },
  {
   "cell_type": "code",
   "execution_count": 15,
   "metadata": {},
   "outputs": [],
   "source": [
    "df['ethnicity'] = df['african'] + df['european'] + df['hispanic'] + df['latino'] + df['latina'] + df['latinx']"
   ]
  },
  {
   "cell_type": "code",
   "execution_count": 16,
   "metadata": {},
   "outputs": [],
   "source": [
    "df['race'] = df['african american'] + df['black'] + df['white'] + df['asian']"
   ]
  },
  {
   "cell_type": "code",
   "execution_count": 17,
   "metadata": {},
   "outputs": [],
   "source": [
    "df['nationality'] = df['mexican'] + df['canadian'] + df['american'] + df['indian'] + df['chinese'] + df['japanese']"
   ]
  },
  {
   "cell_type": "code",
   "execution_count": 18,
   "metadata": {},
   "outputs": [],
   "source": [
    "df['religion'] = df['christian'] + df['muslim'] + df['jewish'] + df['catholic'] + df['protestant'] + df['taoist'] + \\\n",
    "                    df['sikh'] + df['buddhist']"
   ]
  },
  {
   "cell_type": "code",
   "execution_count": 19,
   "metadata": {},
   "outputs": [],
   "source": [
    "df['age'] = df['old'] + df['older'] + df['young'] + df['younger'] + df['teenage'] + df['millenial'] + df['middle aged']+ \\\n",
    "                df['elderly']"
   ]
  },
  {
   "cell_type": "code",
   "execution_count": 20,
   "metadata": {},
   "outputs": [],
   "source": [
    "df['disability'] = df['blind'] + df['deaf'] + df['paralyzed']"
   ]
  },
  {
   "cell_type": "code",
   "execution_count": 21,
   "metadata": {},
   "outputs": [],
   "source": [
    "df_reduced = df[['Wiki_ID','TOXICITY', 'sexual orientation', 'sex', 'ethnicity', 'race', 'nationality', 'religion', \\\n",
    "                'age', 'disability']]"
   ]
  },
  {
   "cell_type": "code",
   "execution_count": 22,
   "metadata": {},
   "outputs": [
    {
     "data": {
      "text/html": [
       "<div>\n",
       "<style scoped>\n",
       "    .dataframe tbody tr th:only-of-type {\n",
       "        vertical-align: middle;\n",
       "    }\n",
       "\n",
       "    .dataframe tbody tr th {\n",
       "        vertical-align: top;\n",
       "    }\n",
       "\n",
       "    .dataframe thead th {\n",
       "        text-align: right;\n",
       "    }\n",
       "</style>\n",
       "<table border=\"1\" class=\"dataframe\">\n",
       "  <thead>\n",
       "    <tr style=\"text-align: right;\">\n",
       "      <th></th>\n",
       "      <th>Wiki_ID</th>\n",
       "      <th>TOXICITY</th>\n",
       "      <th>sexual orientation</th>\n",
       "      <th>sex</th>\n",
       "      <th>ethnicity</th>\n",
       "      <th>race</th>\n",
       "      <th>nationality</th>\n",
       "      <th>religion</th>\n",
       "      <th>age</th>\n",
       "      <th>disability</th>\n",
       "    </tr>\n",
       "  </thead>\n",
       "  <tbody>\n",
       "    <tr>\n",
       "      <th>0</th>\n",
       "      <td>0.0</td>\n",
       "      <td>0.096492</td>\n",
       "      <td>0</td>\n",
       "      <td>0</td>\n",
       "      <td>0</td>\n",
       "      <td>0</td>\n",
       "      <td>3</td>\n",
       "      <td>0</td>\n",
       "      <td>0</td>\n",
       "      <td>0</td>\n",
       "    </tr>\n",
       "    <tr>\n",
       "      <th>1</th>\n",
       "      <td>1.0</td>\n",
       "      <td>0.017991</td>\n",
       "      <td>0</td>\n",
       "      <td>2</td>\n",
       "      <td>0</td>\n",
       "      <td>0</td>\n",
       "      <td>0</td>\n",
       "      <td>0</td>\n",
       "      <td>0</td>\n",
       "      <td>0</td>\n",
       "    </tr>\n",
       "    <tr>\n",
       "      <th>2</th>\n",
       "      <td>2.0</td>\n",
       "      <td>0.150298</td>\n",
       "      <td>7</td>\n",
       "      <td>0</td>\n",
       "      <td>0</td>\n",
       "      <td>0</td>\n",
       "      <td>0</td>\n",
       "      <td>0</td>\n",
       "      <td>0</td>\n",
       "      <td>0</td>\n",
       "    </tr>\n",
       "    <tr>\n",
       "      <th>3</th>\n",
       "      <td>3.0</td>\n",
       "      <td>0.065861</td>\n",
       "      <td>0</td>\n",
       "      <td>0</td>\n",
       "      <td>0</td>\n",
       "      <td>0</td>\n",
       "      <td>1</td>\n",
       "      <td>0</td>\n",
       "      <td>0</td>\n",
       "      <td>0</td>\n",
       "    </tr>\n",
       "    <tr>\n",
       "      <th>4</th>\n",
       "      <td>4.0</td>\n",
       "      <td>0.667166</td>\n",
       "      <td>0</td>\n",
       "      <td>0</td>\n",
       "      <td>0</td>\n",
       "      <td>0</td>\n",
       "      <td>0</td>\n",
       "      <td>7</td>\n",
       "      <td>0</td>\n",
       "      <td>0</td>\n",
       "    </tr>\n",
       "  </tbody>\n",
       "</table>\n",
       "</div>"
      ],
      "text/plain": [
       "   Wiki_ID  TOXICITY sexual orientation sex ethnicity race nationality  \\\n",
       "0      0.0  0.096492                  0   0         0    0           3   \n",
       "1      1.0  0.017991                  0   2         0    0           0   \n",
       "2      2.0  0.150298                  7   0         0    0           0   \n",
       "3      3.0  0.065861                  0   0         0    0           1   \n",
       "4      4.0  0.667166                  0   0         0    0           0   \n",
       "\n",
       "  religion age disability  \n",
       "0        0   0          0  \n",
       "1        0   0          0  \n",
       "2        0   0          0  \n",
       "3        0   0          0  \n",
       "4        7   0          0  "
      ]
     },
     "execution_count": 22,
     "metadata": {},
     "output_type": "execute_result"
    }
   ],
   "source": [
    "df_reduced.head()"
   ]
  },
  {
   "cell_type": "code",
   "execution_count": 23,
   "metadata": {},
   "outputs": [
    {
     "data": {
      "text/plain": [
       "76564"
      ]
     },
     "execution_count": 23,
     "metadata": {},
     "output_type": "execute_result"
    }
   ],
   "source": [
    "len(df_reduced)"
   ]
  },
  {
   "cell_type": "code",
   "execution_count": 24,
   "metadata": {},
   "outputs": [],
   "source": [
    "df_reduced = df_reduced[(df['sexual orientation'] + df['sex'] + df['ethnicity'] + df['race'] + df['nationality'] + \\\n",
    "                        df['religion'] + df['age'] + df['disability']) >= 1]"
   ]
  },
  {
   "cell_type": "code",
   "execution_count": 25,
   "metadata": {},
   "outputs": [
    {
     "data": {
      "text/plain": [
       "74186"
      ]
     },
     "execution_count": 25,
     "metadata": {},
     "output_type": "execute_result"
    }
   ],
   "source": [
    "len(df_reduced)"
   ]
  },
  {
   "cell_type": "code",
   "execution_count": 26,
   "metadata": {},
   "outputs": [],
   "source": [
    "df_reduced['sexual orientation'] = pd.to_numeric(df_reduced['sexual orientation'])\n",
    "df_reduced['sex'] = pd.to_numeric(df_reduced['sex'])\n",
    "df_reduced['ethnicity'] = pd.to_numeric(df_reduced['ethnicity'])\n",
    "df_reduced['race'] = pd.to_numeric(df_reduced['race'])\n",
    "df_reduced['nationality'] = pd.to_numeric(df_reduced['nationality'])\n",
    "df_reduced['religion'] = pd.to_numeric(df_reduced['religion'])\n",
    "df_reduced['age'] = pd.to_numeric(df_reduced['age'])\n",
    "df_reduced['disability'] = pd.to_numeric(df_reduced['disability'])"
   ]
  },
  {
   "cell_type": "code",
   "execution_count": 27,
   "metadata": {},
   "outputs": [
    {
     "data": {
      "text/plain": [
       "0.06920970874431788"
      ]
     },
     "execution_count": 27,
     "metadata": {},
     "output_type": "execute_result"
    }
   ],
   "source": [
    "df_reduced['TOXICITY'].corr(df_reduced['sexual orientation'])"
   ]
  },
  {
   "cell_type": "code",
   "execution_count": 28,
   "metadata": {},
   "outputs": [
    {
     "data": {
      "text/plain": [
       "0.08558794053638888"
      ]
     },
     "execution_count": 28,
     "metadata": {},
     "output_type": "execute_result"
    }
   ],
   "source": [
    "df_reduced['TOXICITY'].corr(df_reduced['sex'])"
   ]
  },
  {
   "cell_type": "code",
   "execution_count": 29,
   "metadata": {},
   "outputs": [
    {
     "data": {
      "text/plain": [
       "-0.01786891227853506"
      ]
     },
     "execution_count": 29,
     "metadata": {},
     "output_type": "execute_result"
    }
   ],
   "source": [
    "df_reduced['TOXICITY'].corr(df_reduced['ethnicity'])"
   ]
  },
  {
   "cell_type": "code",
   "execution_count": 30,
   "metadata": {},
   "outputs": [
    {
     "data": {
      "text/plain": [
       "-0.032356941337733376"
      ]
     },
     "execution_count": 30,
     "metadata": {},
     "output_type": "execute_result"
    }
   ],
   "source": [
    "df_reduced['TOXICITY'].corr(df_reduced['race'])"
   ]
  },
  {
   "cell_type": "code",
   "execution_count": 31,
   "metadata": {},
   "outputs": [
    {
     "data": {
      "text/plain": [
       "-0.11781905036789544"
      ]
     },
     "execution_count": 31,
     "metadata": {},
     "output_type": "execute_result"
    }
   ],
   "source": [
    "df_reduced['TOXICITY'].corr(df_reduced['nationality'])"
   ]
  },
  {
   "cell_type": "code",
   "execution_count": 32,
   "metadata": {},
   "outputs": [
    {
     "data": {
      "text/plain": [
       "0.013687612781602599"
      ]
     },
     "execution_count": 32,
     "metadata": {},
     "output_type": "execute_result"
    }
   ],
   "source": [
    "df_reduced['TOXICITY'].corr(df_reduced['religion'])"
   ]
  },
  {
   "cell_type": "code",
   "execution_count": 33,
   "metadata": {},
   "outputs": [
    {
     "data": {
      "text/plain": [
       "-0.025766527613847363"
      ]
     },
     "execution_count": 33,
     "metadata": {},
     "output_type": "execute_result"
    }
   ],
   "source": [
    "df_reduced['TOXICITY'].corr(df_reduced['age'])"
   ]
  },
  {
   "cell_type": "code",
   "execution_count": 34,
   "metadata": {},
   "outputs": [
    {
     "data": {
      "text/plain": [
       "0.009479684307451473"
      ]
     },
     "execution_count": 34,
     "metadata": {},
     "output_type": "execute_result"
    }
   ],
   "source": [
    "df_reduced['TOXICITY'].corr(df_reduced['disability'])"
   ]
  },
  {
   "cell_type": "code",
   "execution_count": 40,
   "metadata": {},
   "outputs": [
    {
     "name": "stdout",
     "output_type": "stream",
     "text": [
      "{'Trans': 0.5074263812410836, 'Nonbinary': 0.5551644657826957, 'Male': 0.5850899123051533, 'Transgender': 0.7411029743322336, 'Female': 0.7459288956819674}\n"
     ]
    }
   ],
   "source": [
    "#Correlation map with Sex\n",
    "l = {}\n",
    "map_sex = { 1.0: 'Transgender', 2.0: 'Trans', 3.0: \"Male\", 4.0: 'Female', 5.0:'Nonbinary', 0.0 : 'False'}\n",
    "for i in df_reduced['sex'].unique(): \n",
    "    l[map_sex[i]] = df_reduced[df_reduced['sex'] == i].mean()['TOXICITY']\n",
    "l = {k: v for k, v in sorted(l.items(), key=lambda item: item[1])}\n",
    "l.pop('False', None)\n",
    "print(l)"
   ]
  },
  {
   "cell_type": "code",
   "execution_count": 44,
   "metadata": {},
   "outputs": [
    {
     "data": {
      "image/png": "[encoded data removed]",
      "text/plain": [
       "<Figure size 432x288 with 1 Axes>"
      ]
     },
     "metadata": {
      "needs_background": "light"
     },
     "output_type": "display_data"
    }
   ],
   "source": [
    "plt.scatter(range(len(l)), list(l.values()))\n",
    "plt.xticks(range(len(l)), list(l.keys()))\n",
    "plt.xlabel('Sex')\n",
    "plt.ylabel('Correlation Value')\n",
    "plt.savefig('1.png')"
   ]
  },
  {
   "cell_type": "code",
   "execution_count": 45,
   "metadata": {},
   "outputs": [
    {
     "name": "stdout",
     "output_type": "stream",
     "text": [
      "{'Heterosexual': 0.5551644657826953, 'Lgbtq': 0.5551644657826954, 'Lgbt': 0.5600084315620879, 'Straight': 0.5601547028124179, 'Gay': 0.7209887482813724, 'Lesbian': 0.7395405172780739, 'Homosexual': 0.7528168338282695, 'Bisexual': 0.7804491662965675}\n"
     ]
    }
   ],
   "source": [
    "#Correlation plot with Sexual Orientation\n",
    "l = {}\n",
    "map_sex_or = { 1.0: 'Lesbian', 2.0: 'Gay', 3.0: \"Bisexual\", 4.0: 'Queer', 5.0:'Lgbt', 0.0 : 'False', 6.0: 'Lgbtq',\\\n",
    "          7.0: 'Homosexual', 8.0:'Straight', 9.0:'Heterosexual'}\n",
    "for i in df_reduced['sexual orientation'].unique(): \n",
    "    l[map_sex_or[i]] = df_reduced[df_reduced['sexual orientation'] == i].mean()['TOXICITY']\n",
    "l = {k: v for k, v in sorted(l.items(), key=lambda item: item[1])}\n",
    "l.pop('False', None)\n",
    "print(l)"
   ]
  },
  {
   "cell_type": "code",
   "execution_count": 52,
   "metadata": {},
   "outputs": [
    {
     "data": {
      "image/png": "[encoded data removed]",
      "text/plain": [
       "<Figure size 432x288 with 1 Axes>"
      ]
     },
     "metadata": {
      "needs_background": "light"
     },
     "output_type": "display_data"
    }
   ],
   "source": [
    "plt.scatter(range(len(l)), list(l.values()))\n",
    "plt.xticks(range(len(l)), list(l.keys()), rotation=15)\n",
    "plt.xlabel('Sexual Orientation')\n",
    "plt.ylabel('Correlation Value')\n",
    "plt.savefig('2_new.png')"
   ]
  },
  {
   "cell_type": "code",
   "execution_count": 53,
   "metadata": {},
   "outputs": [
    {
     "name": "stdout",
     "output_type": "stream",
     "text": [
      "{'Christian': 0.48529666567635277, 'Buddhist': 0.48612295504557707, 'Muslim': 0.5040030165151913, 'Catholic': 0.5330903741869226, 'Protestant': 0.5447048482140041, 'Taoist': 0.5551644657826955, 'Jewish': 0.5781568405409512, 'Sikh': 0.6952374243375162}\n"
     ]
    }
   ],
   "source": [
    "#Correlation plot with religion\n",
    "l = {}\n",
    "map_rel = { 1.0: 'Christian', 2.0: 'Muslim', 3.0: \"Jewish\", 4.0: 'Buddhist', 5.0:'Catholic', 0.0 : 'False',\\\n",
    "           6.0: 'Protestant',7.0: 'Sikh', 8.0:'Taoist'}\n",
    "for i in df_reduced['religion'].unique(): \n",
    "    l[map_rel[i]] = df_reduced[df_reduced['religion'] == i].mean()['TOXICITY']\n",
    "l = {k: v for k, v in sorted(l.items(), key=lambda item: item[1])}\n",
    "l.pop('False', None)\n",
    "print(l)"
   ]
  },
  {
   "cell_type": "code",
   "execution_count": 54,
   "metadata": {},
   "outputs": [
    {
     "data": {
      "image/png": "[encoded data removed]",
      "text/plain": [
       "<Figure size 432x288 with 1 Axes>"
      ]
     },
     "metadata": {
      "needs_background": "light"
     },
     "output_type": "display_data"
    }
   ],
   "source": [
    "plt.scatter(range(len(l)), list(l.values()))\n",
    "plt.xticks(range(len(l)), list(l.keys()), rotation=15)\n",
    "plt.xlabel('Religion')\n",
    "plt.ylabel('Correlation Value')\n",
    "plt.savefig('3.png')"
   ]
  },
  {
   "cell_type": "code",
   "execution_count": 55,
   "metadata": {},
   "outputs": [
    {
     "data": {
      "text/plain": [
       "0.5542645222317495"
      ]
     },
     "execution_count": 55,
     "metadata": {},
     "output_type": "execute_result"
    }
   ],
   "source": [
    "#Step 4\n",
    "df_reduced['TOXICITY'].mean()"
   ]
  },
  {
   "cell_type": "code",
   "execution_count": 56,
   "metadata": {},
   "outputs": [
    {
     "data": {
      "text/plain": [
       "0.36062161271688375"
      ]
     },
     "execution_count": 56,
     "metadata": {},
     "output_type": "execute_result"
    }
   ],
   "source": [
    "df_reduced['TOXICITY'].std()"
   ]
  },
  {
   "cell_type": "code",
   "execution_count": 57,
   "metadata": {},
   "outputs": [
    {
     "data": {
      "text/plain": [
       "0.9902440410000001"
      ]
     },
     "execution_count": 57,
     "metadata": {},
     "output_type": "execute_result"
    }
   ],
   "source": [
    "df_reduced['TOXICITY'].max() - df_reduced['TOXICITY'].min()"
   ]
  },
  {
   "cell_type": "code",
   "execution_count": 58,
   "metadata": {},
   "outputs": [
    {
     "name": "stdout",
     "output_type": "stream",
     "text": [
      "0.555244970772042\n",
      "0.3611333043475273\n"
     ]
    }
   ],
   "source": [
    "df_red_half = df_reduced.sample(n=int(len(df_reduced)/2), random_state=1)\n",
    "print(df_red_half['TOXICITY'].mean())\n",
    "print(df_red_half['TOXICITY'].std())"
   ]
  },
  {
   "cell_type": "code",
   "execution_count": 59,
   "metadata": {},
   "outputs": [
    {
     "data": {
      "text/plain": [
       "0.005192231172748671"
      ]
     },
     "execution_count": 59,
     "metadata": {},
     "output_type": "execute_result"
    }
   ],
   "source": [
    "1/np.sqrt(len(df_red_half))"
   ]
  },
  {
   "cell_type": "code",
   "execution_count": 60,
   "metadata": {},
   "outputs": [
    {
     "name": "stdout",
     "output_type": "stream",
     "text": [
      "0.5550641991309783\n",
      "0.35982589684122057\n"
     ]
    }
   ],
   "source": [
    "df_red_quar = df_reduced.sample(n=int(len(df_reduced)/4), random_state=1)\n",
    "print(df_red_quar['TOXICITY'].mean())\n",
    "print(df_red_quar['TOXICITY'].std())"
   ]
  },
  {
   "cell_type": "code",
   "execution_count": 61,
   "metadata": {},
   "outputs": [
    {
     "data": {
      "text/plain": [
       "0.007343022725390786"
      ]
     },
     "execution_count": 61,
     "metadata": {},
     "output_type": "execute_result"
    }
   ],
   "source": [
    "1/np.sqrt(len(df_red_quar))"
   ]
  },
  {
   "cell_type": "code",
   "execution_count": 62,
   "metadata": {},
   "outputs": [],
   "source": [
    "#Step 5\n",
    "df_sex = df_reduced[df_reduced['sex'] != 0]"
   ]
  },
  {
   "cell_type": "code",
   "execution_count": 63,
   "metadata": {},
   "outputs": [
    {
     "data": {
      "text/plain": [
       "0.6467735875041795"
      ]
     },
     "execution_count": 63,
     "metadata": {},
     "output_type": "execute_result"
    }
   ],
   "source": [
    "df_sex['TOXICITY'].mean()"
   ]
  },
  {
   "cell_type": "code",
   "execution_count": 64,
   "metadata": {},
   "outputs": [
    {
     "data": {
      "text/plain": [
       "0.33474097745245013"
      ]
     },
     "execution_count": 64,
     "metadata": {},
     "output_type": "execute_result"
    }
   ],
   "source": [
    "df_sex['TOXICITY'].std()"
   ]
  },
  {
   "cell_type": "code",
   "execution_count": 65,
   "metadata": {},
   "outputs": [
    {
     "data": {
      "text/plain": [
       "0.010492076228484241"
      ]
     },
     "execution_count": 65,
     "metadata": {},
     "output_type": "execute_result"
    }
   ],
   "source": [
    "1/np.sqrt(len(df_sex))"
   ]
  },
  {
   "cell_type": "code",
   "execution_count": 66,
   "metadata": {},
   "outputs": [
    {
     "name": "stdout",
     "output_type": "stream",
     "text": [
      "0.6457646036472917\n",
      "0.3365305205052646\n"
     ]
    }
   ],
   "source": [
    "df_sex_half = df_sex.sample(n=int(len(df_sex)/2), random_state=1)\n",
    "print(df_sex_half['TOXICITY'].mean())\n",
    "print(df_sex_half['TOXICITY'].std())"
   ]
  },
  {
   "cell_type": "code",
   "execution_count": 67,
   "metadata": {},
   "outputs": [
    {
     "name": "stdout",
     "output_type": "stream",
     "text": [
      "0.6557172878938807\n",
      "0.33226309912083163\n"
     ]
    }
   ],
   "source": [
    "df_sex_quar = df_sex.sample(n=int(len(df_sex)/4), random_state=1)\n",
    "print(df_sex_quar['TOXICITY'].mean())\n",
    "print(df_sex_quar['TOXICITY'].std())"
   ]
  },
  {
   "cell_type": "code",
   "execution_count": 68,
   "metadata": {},
   "outputs": [
    {
     "data": {
      "text/plain": [
       "array([2., 5., 3., 4., 1.])"
      ]
     },
     "execution_count": 68,
     "metadata": {},
     "output_type": "execute_result"
    }
   ],
   "source": [
    "#Step 6\n",
    "df_sex['sex'].unique()"
   ]
  },
  {
   "cell_type": "code",
   "execution_count": 71,
   "metadata": {},
   "outputs": [
    {
     "data": {
      "text/plain": [
       "0.7411029743322336"
      ]
     },
     "execution_count": 71,
     "metadata": {},
     "output_type": "execute_result"
    }
   ],
   "source": [
    "df_tg = df_sex[df_sex['sex']==1.0]\n",
    "df_tg['TOXICITY'].mean()"
   ]
  },
  {
   "cell_type": "code",
   "execution_count": 72,
   "metadata": {},
   "outputs": [
    {
     "data": {
      "text/plain": [
       "0.25673059947492044"
      ]
     },
     "execution_count": 72,
     "metadata": {},
     "output_type": "execute_result"
    }
   ],
   "source": [
    "df_tg['TOXICITY'].std()"
   ]
  },
  {
   "cell_type": "code",
   "execution_count": 73,
   "metadata": {},
   "outputs": [
    {
     "data": {
      "text/plain": [
       "0.02570023310217136"
      ]
     },
     "execution_count": 73,
     "metadata": {},
     "output_type": "execute_result"
    }
   ],
   "source": [
    "1/np.sqrt(len(df_tg))"
   ]
  },
  {
   "cell_type": "code",
   "execution_count": 74,
   "metadata": {},
   "outputs": [
    {
     "name": "stdout",
     "output_type": "stream",
     "text": [
      "0.7448447639035672\n",
      "0.25982362454510993\n"
     ]
    }
   ],
   "source": [
    "df_tg_half = df_tg.sample(n=int(len(df_tg)/2), random_state=1)\n",
    "print(df_tg_half['TOXICITY'].mean())\n",
    "print(df_tg_half['TOXICITY'].std())"
   ]
  },
  {
   "cell_type": "code",
   "execution_count": 75,
   "metadata": {},
   "outputs": [
    {
     "name": "stdout",
     "output_type": "stream",
     "text": [
      "0.7458501693042325\n",
      "0.25594787137048214\n"
     ]
    }
   ],
   "source": [
    "df_tg_quar = df_tg.sample(n=int(len(df_tg)/4), random_state=1)\n",
    "print(df_tg_quar['TOXICITY'].mean())\n",
    "print(df_tg_quar['TOXICITY'].std())"
   ]
  },
  {
   "cell_type": "code",
   "execution_count": 76,
   "metadata": {},
   "outputs": [
    {
     "name": "stdout",
     "output_type": "stream",
     "text": [
      "0.5074263812410836\n",
      "0.3799697587478725\n",
      "0.02570023310217136\n",
      "half\n",
      "0.49741237046103015\n",
      "0.3792539348832752\n",
      "quar\n",
      "0.5104674648730166\n",
      "0.37426594088286996\n"
     ]
    }
   ],
   "source": [
    "#trans\n",
    "df_t = df_sex[df_sex['sex']==2]\n",
    "print(df_t['TOXICITY'].mean())\n",
    "print(df_t['TOXICITY'].std())\n",
    "print(1/np.sqrt(len(df_t)))\n",
    "print('half')\n",
    "df_t_half = df_t.sample(n=int(len(df_t)/2), random_state=1)\n",
    "print(df_t_half['TOXICITY'].mean())\n",
    "print(df_t_half['TOXICITY'].std())\n",
    "print('quar')\n",
    "df_t_quar = df_t.sample(n=int(len(df_t)/4), random_state=1)\n",
    "print(df_t_quar['TOXICITY'].mean())\n",
    "print(df_t_quar['TOXICITY'].std())"
   ]
  },
  {
   "cell_type": "code",
   "execution_count": 77,
   "metadata": {},
   "outputs": [
    {
     "name": "stdout",
     "output_type": "stream",
     "text": [
      "0.5850899123051533\n",
      "0.3377768628741977\n",
      "0.02570023310217136\n",
      "half\n",
      "0.5866904411281363\n",
      "0.3388596492480309\n",
      "quar\n",
      "0.5747465328650797\n",
      "0.3430748661729111\n"
     ]
    }
   ],
   "source": [
    "#male\n",
    "df_t = df_sex[df_sex['sex']==3]\n",
    "print(df_t['TOXICITY'].mean())\n",
    "print(df_t['TOXICITY'].std())\n",
    "print(1/np.sqrt(len(df_t)))\n",
    "print('half')\n",
    "df_t_half = df_t.sample(n=int(len(df_t)/2), random_state=1)\n",
    "print(df_t_half['TOXICITY'].mean())\n",
    "print(df_t_half['TOXICITY'].std())\n",
    "print('quar')\n",
    "df_t_quar = df_t.sample(n=int(len(df_t)/4), random_state=1)\n",
    "print(df_t_quar['TOXICITY'].mean())\n",
    "print(df_t_quar['TOXICITY'].std())"
   ]
  },
  {
   "cell_type": "code",
   "execution_count": 78,
   "metadata": {},
   "outputs": [
    {
     "name": "stdout",
     "output_type": "stream",
     "text": [
      "0.7459288956819674\n",
      "0.2909586225645473\n",
      "0.01817280910462035\n",
      "half\n",
      "0.748657394182299\n",
      "0.2903733954704072\n",
      "quar\n",
      "0.7528289137542936\n",
      "0.2914072260675818\n"
     ]
    }
   ],
   "source": [
    "#female\n",
    "df_t = df_sex[df_sex['sex']==4]\n",
    "print(df_t['TOXICITY'].mean())\n",
    "print(df_t['TOXICITY'].std())\n",
    "print(1/np.sqrt(len(df_t)))\n",
    "print('half')\n",
    "df_t_half = df_t.sample(n=int(len(df_t)/2), random_state=1)\n",
    "print(df_t_half['TOXICITY'].mean())\n",
    "print(df_t_half['TOXICITY'].std())\n",
    "print('quar')\n",
    "df_t_quar = df_t.sample(n=int(len(df_t)/4), random_state=1)\n",
    "print(df_t_quar['TOXICITY'].mean())\n",
    "print(df_t_quar['TOXICITY'].std())"
   ]
  },
  {
   "cell_type": "code",
   "execution_count": 79,
   "metadata": {},
   "outputs": [
    {
     "name": "stdout",
     "output_type": "stream",
     "text": [
      "0.5551644657826957\n",
      "0.3445470941189675\n",
      "0.02570023310217136\n",
      "half\n",
      "0.5587065288454421\n",
      "0.3431908857243115\n",
      "quar\n",
      "0.5625628069021164\n",
      "0.34721140277090223\n"
     ]
    }
   ],
   "source": [
    "#nonbinary\n",
    "df_t = df_sex[df_sex['sex']==5]\n",
    "print(df_t['TOXICITY'].mean())\n",
    "print(df_t['TOXICITY'].std())\n",
    "print(1/np.sqrt(len(df_t)))\n",
    "print('half')\n",
    "df_t_half = df_t.sample(n=int(len(df_t)/2), random_state=1)\n",
    "print(df_t_half['TOXICITY'].mean())\n",
    "print(df_t_half['TOXICITY'].std())\n",
    "print('quar')\n",
    "df_t_quar = df_t.sample(n=int(len(df_t)/4), random_state=1)\n",
    "print(df_t_quar['TOXICITY'].mean())\n",
    "print(df_t_quar['TOXICITY'].std())"
   ]
  },
  {
   "cell_type": "code",
   "execution_count": 80,
   "metadata": {},
   "outputs": [],
   "source": [
    "#Step 7:\n",
    "dict_mean = { 'Population': 0.554, 'Sex': 0.647, 'Transgender': 0.741, 'Trans': 0.507, 'Male': 0.585, \\\n",
    "            'Female': 0.746, 'Nonbinary': 0.555}\n",
    "dict_std = { 'Population': 0.361, 'Sex': 0.347, 'Transgender': 0.247, 'Trans': 0.379, 'Male': 0.338, \\\n",
    "           'Female': 0.291, 'Nonbinary': 0.345}"
   ]
  },
  {
   "cell_type": "code",
   "execution_count": 89,
   "metadata": {},
   "outputs": [
    {
     "data": {
      "image/png": "[encoded data removed]",
      "text/plain": [
       "<Figure size 432x288 with 1 Axes>"
      ]
     },
     "metadata": {
      "needs_background": "light"
     },
     "output_type": "display_data"
    }
   ],
   "source": [
    "X = np.arange(len(dict_mean))\n",
    "ax = plt.subplot(111)\n",
    "ax.bar(X, dict_mean.values(), width=0.2, align='center')\n",
    "ax.bar(X-0.2, dict_std.values(), width=0.2, align='center')\n",
    "ax.legend(('Mean','Std'))\n",
    "plt.xticks(X, dict_mean.keys())\n",
    "plt.savefig('4_new.png')"
   ]
  },
  {
   "cell_type": "code",
   "execution_count": null,
   "metadata": {},
   "outputs": [],
   "source": []
  }
 ],
 "metadata": {
  "kernelspec": {
   "display_name": "Python 3",
   "language": "python",
   "name": "python3"
  },
  "language_info": {
   "codemirror_mode": {
    "name": "ipython",
    "version": 3
   },
   "file_extension": ".py",
   "mimetype": "text/x-python",
   "name": "python",
   "nbconvert_exporter": "python",
   "pygments_lexer": "ipython3",
   "version": "3.7.3"
  }
 },
 "nbformat": 4,
 "nbformat_minor": 2
}
