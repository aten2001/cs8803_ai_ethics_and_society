{
 "cells": [
  {
   "cell_type": "code",
   "execution_count": 2,
   "metadata": {},
   "outputs": [],
   "source": [
    "import pandas as pd\n",
    "import numpy as np\n",
    "import matplotlib.pyplot as plt"
   ]
  },
  {
   "cell_type": "code",
   "execution_count": 3,
   "metadata": {},
   "outputs": [],
   "source": [
    "df = pd.read_csv('Mental_health_responses.csv')"
   ]
  },
  {
   "cell_type": "code",
   "execution_count": 5,
   "metadata": {},
   "outputs": [
    {
     "data": {
      "text/plain": [
       "1260"
      ]
     },
     "execution_count": 5,
     "metadata": {},
     "output_type": "execute_result"
    }
   ],
   "source": [
    "len(df)"
   ]
  },
  {
   "cell_type": "code",
   "execution_count": 6,
   "metadata": {},
   "outputs": [
    {
     "data": {
      "text/plain": [
       "27"
      ]
     },
     "execution_count": 6,
     "metadata": {},
     "output_type": "execute_result"
    }
   ],
   "source": [
    "len(df.columns)"
   ]
  },
  {
   "cell_type": "code",
   "execution_count": 8,
   "metadata": {},
   "outputs": [],
   "source": [
    "df = df.rename(columns={'Have you sought treatment for a mental health condition?': 'treatment', \\\n",
    "                        'Do you think that discussing a mental health issue with your employer would have negative consequences?': 'mental_health_consequence',\\\n",
    "                       'Do you think that discussing a physical health issue with your employer would have negative consequences?': 'phys_health_consequence'})"
   ]
  },
  {
   "cell_type": "code",
   "execution_count": 9,
   "metadata": {},
   "outputs": [
    {
     "data": {
      "text/plain": [
       "Index(['Timestamp', 'Age', 'Gender', 'Country',\n",
       "       'If you live in the United States, which state or territory do you live in?',\n",
       "       'Are you self-employed?',\n",
       "       'Do you have a family history of mental illness?', 'treatment',\n",
       "       'If you have a mental health condition, do you feel that it interferes with your work?',\n",
       "       'How many employees does your company or organization have?',\n",
       "       'Do you work remotely (outside of an office) at least 50% of the time?',\n",
       "       'Is your employer primarily a tech company/organization?',\n",
       "       'Does your employer provide mental health benefits?',\n",
       "       'Do you know the options for mental health care your employer provides?',\n",
       "       'Has your employer ever discussed mental health as part of an employee wellness program?',\n",
       "       'Does your employer provide resources to learn more about mental health issues and how to seek help?',\n",
       "       'Is your anonymity protected if you choose to take advantage of mental health or substance abuse treatment resources?',\n",
       "       'How easy is it for you to take medical leave for a mental health condition?',\n",
       "       'mental_health_consequence', 'phys_health_consequence',\n",
       "       'Would you be willing to discuss a mental health issue with your coworkers?',\n",
       "       'Would you be willing to discuss a mental health issue with your direct supervisor(s)?',\n",
       "       'Would you bring up a mental health issue with a potential employer in an interview?',\n",
       "       'Would you bring up a physical health issue with a potential employer in an interview?',\n",
       "       'Do you feel that your employer takes mental health as seriously as physical health?',\n",
       "       'Have you heard of or observed negative consequences for coworkers with mental health conditions in your workplace?',\n",
       "       'Any additional notes or comments'],\n",
       "      dtype='object')"
      ]
     },
     "execution_count": 9,
     "metadata": {},
     "output_type": "execute_result"
    }
   ],
   "source": [
    "df.columns"
   ]
  },
  {
   "cell_type": "code",
   "execution_count": 10,
   "metadata": {},
   "outputs": [],
   "source": [
    "df = df[df['Age'] > 0]"
   ]
  },
  {
   "cell_type": "code",
   "execution_count": 11,
   "metadata": {},
   "outputs": [],
   "source": [
    "df = df[df['Age'] < 100]"
   ]
  },
  {
   "cell_type": "code",
   "execution_count": 12,
   "metadata": {},
   "outputs": [
    {
     "data": {
      "text/plain": [
       "1255"
      ]
     },
     "execution_count": 12,
     "metadata": {},
     "output_type": "execute_result"
    }
   ],
   "source": [
    "len(df)"
   ]
  },
  {
   "cell_type": "code",
   "execution_count": 91,
   "metadata": {},
   "outputs": [
    {
     "data": {
      "image/png": "[encoded data removed]",
      "text/plain": [
       "<Figure size 432x288 with 1 Axes>"
      ]
     },
     "metadata": {
      "needs_background": "light"
     },
     "output_type": "display_data"
    }
   ],
   "source": [
    "#Step 3:\n",
    "#1. Treatment and Age\n",
    "df_treat_y = df[df['treatment'] == 'Yes']\n",
    "df_treat_n = df[df['treatment'] == 'No']\n",
    "plt.hist([df_treat_y['Age'], df_treat_n['Age']], bins = 4, label=['Treatment = Yes', 'Treatment = No'])\n",
    "plt.legend(loc='upper right')\n",
    "plt.xlabel('Age')\n",
    "plt.savefig('1.png')"
   ]
  },
  {
   "cell_type": "code",
   "execution_count": 92,
   "metadata": {},
   "outputs": [
    {
     "data": {
      "text/plain": [
       "array(['Female', 'M', 'Male', 'male', 'female', 'm', 'Male-ish', 'maile',\n",
       "       'Trans-female', 'Cis Female', 'F', 'something kinda male?',\n",
       "       'Cis Male', 'Woman', 'f', 'Mal', 'Male (CIS)', 'queer/she/they',\n",
       "       'non-binary', 'Femake', 'woman', 'Make', 'Nah', 'Enby', 'fluid',\n",
       "       'Genderqueer', 'Female ', 'Androgyne', 'Agender',\n",
       "       'cis-female/femme', 'Guy (-ish) ^_^', 'male leaning androgynous',\n",
       "       'Male ', 'Man', 'Trans woman', 'msle', 'Neuter', 'Female (trans)',\n",
       "       'queer', 'Female (cis)', 'Mail', 'cis male', 'A little about you',\n",
       "       'Malr', 'femail', 'Cis Man',\n",
       "       'ostensibly male, unsure what that really means'], dtype=object)"
      ]
     },
     "execution_count": 92,
     "metadata": {},
     "output_type": "execute_result"
    }
   ],
   "source": [
    "df['Gender'].unique()"
   ]
  },
  {
   "cell_type": "code",
   "execution_count": 99,
   "metadata": {},
   "outputs": [],
   "source": [
    "#2. Treatment and Gender\n",
    "#make mapping\n",
    "dict_gender = {}\n",
    "dict_gender['Female'] = 0\n",
    "dict_gender['msle'] = 1\n",
    "dict_gender['Neuter'] = 17\n",
    "dict_gender['Female (trans)'] = 3\n",
    "dict_gender['M'] = 1\n",
    "dict_gender['queer'] = 12\n",
    "dict_gender['Female (cis)'] = 4\n",
    "dict_gender['Mail'] = 1\n",
    "dict_gender['Male'] = 1\n",
    "dict_gender['cis male'] = 6\n",
    "dict_gender['A little about you'] = 18\n",
    "dict_gender['male'] = 1\n",
    "dict_gender['Malr'] = 1\n",
    "dict_gender['femail'] = 0\n",
    "dict_gender['Cis Man'] = 6\n",
    "dict_gender['female'] = 0\n",
    "dict_gender['ostensibly male, unsure what that really means'] = 19\n",
    "dict_gender['m'] = 1\n",
    "dict_gender['Male-ish'] = 2\n",
    "dict_gender['maile'] = 1\n",
    "dict_gender['Trans-female'] = 3\n",
    "dict_gender['Cis Female'] = 4\n",
    "dict_gender['F'] = 0\n",
    "dict_gender['something kinda male?'] = 5\n",
    "dict_gender['Cis Male'] = 6\n",
    "dict_gender['Woman'] = 0\n",
    "dict_gender['f'] = 0\n",
    "dict_gender['Mal'] = 1\n",
    "dict_gender['Male (CIS)'] = 6\n",
    "dict_gender['queer/she/they'] = 7\n",
    "dict_gender['non-binary'] = 8\n",
    "dict_gender['Femake'] = 0\n",
    "dict_gender['woman'] = 0\n",
    "dict_gender['Make'] = 1\n",
    "dict_gender['Nah'] = 9\n",
    "dict_gender['Enby'] = 10\n",
    "dict_gender['fluid'] = 11\n",
    "dict_gender['Genderqueer'] = 12\n",
    "dict_gender['Androgyne'] = 13\n",
    "dict_gender['Agender'] = 14\n",
    "dict_gender['cis-female/femme'] = 4\n",
    "dict_gender['Guy (-ish) ^_^'] = 15\n",
    "dict_gender['male leaning androgynous'] = 16\n",
    "dict_gender['Male '] = 1\n",
    "dict_gender['Man'] = 1\n",
    "dict_gender['Trans woman'] = 3\n",
    "dict_gender['Female '] = 0"
   ]
  },
  {
   "cell_type": "code",
   "execution_count": 109,
   "metadata": {},
   "outputs": [
    {
     "data": {
      "text/plain": [
       "47"
      ]
     },
     "execution_count": 109,
     "metadata": {},
     "output_type": "execute_result"
    }
   ],
   "source": [
    "len(dict_gender)"
   ]
  },
  {
   "cell_type": "code",
   "execution_count": 100,
   "metadata": {},
   "outputs": [],
   "source": [
    "#add column to df\n",
    "df['Gender_Num'] = df.apply (lambda row: dict_gender[row.Gender], axis=1)"
   ]
  },
  {
   "cell_type": "code",
   "execution_count": 130,
   "metadata": {},
   "outputs": [
    {
     "data": {
      "image/png": "[encoded data removed]",
      "text/plain": [
       "<Figure size 432x288 with 1 Axes>"
      ]
     },
     "metadata": {
      "needs_background": "light"
     },
     "output_type": "display_data"
    }
   ],
   "source": [
    "#plot\n",
    "df_gender_treat_y = df[df['treatment'] == 'Yes']\n",
    "df_gender_treat_n = df[df['treatment'] == 'No']\n",
    "plt.hist([df_gender_treat_y['Gender_Num'], df_gender_treat_n['Gender_Num']], \n",
    "         bins = 19, label=['Treatment = Yes', 'Treatment = No'])\n",
    "plt.legend()\n",
    "plt.xlabel('Gender Category')\n",
    "plt.savefig('2_new.png')"
   ]
  },
  {
   "cell_type": "code",
   "execution_count": 21,
   "metadata": {},
   "outputs": [
    {
     "data": {
      "text/plain": [
       "array(['United States', 'Canada', 'United Kingdom', 'Bulgaria', 'France',\n",
       "       'Portugal', 'Netherlands', 'Switzerland', 'Poland', 'Australia',\n",
       "       'Germany', 'Russia', 'Mexico', 'Brazil', 'Slovenia', 'Costa Rica',\n",
       "       'Austria', 'Ireland', 'India', 'South Africa', 'Italy', 'Sweden',\n",
       "       'Colombia', 'Latvia', 'Romania', 'Belgium', 'New Zealand', 'Spain',\n",
       "       'Finland', 'Uruguay', 'Israel', 'Bosnia and Herzegovina',\n",
       "       'Hungary', 'Singapore', 'Japan', 'Nigeria', 'Croatia', 'Norway',\n",
       "       'Thailand', 'Denmark', 'Bahamas, The', 'Greece', 'Moldova',\n",
       "       'Georgia', 'China', 'Czech Republic', 'Philippines'], dtype=object)"
      ]
     },
     "execution_count": 21,
     "metadata": {},
     "output_type": "execute_result"
    }
   ],
   "source": [
    "df['Country'].unique()"
   ]
  },
  {
   "cell_type": "code",
   "execution_count": 115,
   "metadata": {},
   "outputs": [],
   "source": [
    "#3. Treatment and Country\n",
    "#make mapping\n",
    "dict_country = {}\n",
    "dict_country['United States'] = 0\n",
    "dict_country['Canada'] = 1\n",
    "dict_country['United Kingdom'] = 1\n",
    "dict_country['Bulgaria'] = 1\n",
    "dict_country['France'] = 1\n",
    "dict_country['Portugal'] = 1\n",
    "dict_country['Netherlands'] = 1\n",
    "dict_country['Switzerland'] = 1\n",
    "dict_country['Poland'] = 1\n",
    "dict_country['Australia'] = 2\n",
    "dict_country['Germany'] = 1\n",
    "dict_country['Russia'] = 1\n",
    "dict_country['Mexico'] = 0\n",
    "dict_country['Brazil'] = 3\n",
    "dict_country['Slovenia'] = 1\n",
    "dict_country['Costa Rica'] = 0\n",
    "dict_country['Austria'] = 1\n",
    "dict_country['Ireland'] = 1\n",
    "dict_country['India'] = 4\n",
    "dict_country['South Africa'] = 5\n",
    "dict_country['Italy'] = 1\n",
    "dict_country['Sweden'] = 1\n",
    "dict_country['Colombia'] = 3\n",
    "dict_country['Latvia'] = 1\n",
    "dict_country['Romania'] = 1\n",
    "dict_country['Belgium'] = 1\n",
    "dict_country['New Zealand'] = 2\n",
    "dict_country['Spain'] = 1\n",
    "dict_country['Finland'] = 1\n",
    "dict_country['Uruguay'] = 3\n",
    "dict_country['Israel'] = 4\n",
    "dict_country['Bosnia and Herzegovina'] = 1\n",
    "dict_country['Hungary'] = 1\n",
    "dict_country['Singapore'] = 4\n",
    "dict_country['Japan'] = 4\n",
    "dict_country['Nigeria'] = 5\n",
    "dict_country['Croatia'] = 1\n",
    "dict_country['Norway'] = 1\n",
    "dict_country['Thailand'] = 4\n",
    "dict_country['Denmark'] = 1\n",
    "dict_country['Bahamas, The'] = 0\n",
    "dict_country['Greece'] = 1\n",
    "dict_country['Moldova'] = 1\n",
    "dict_country['Georgia'] = 1\n",
    "dict_country['China'] = 4\n",
    "dict_country['Czech Republic'] = 1\n",
    "dict_country['Philippines'] = 4"
   ]
  },
  {
   "cell_type": "code",
   "execution_count": 116,
   "metadata": {},
   "outputs": [],
   "source": [
    "#add column to df\n",
    "df['Country_Num'] = df.apply (lambda row: dict_country[row.Country], axis=1)"
   ]
  },
  {
   "cell_type": "code",
   "execution_count": 131,
   "metadata": {},
   "outputs": [
    {
     "data": {
      "image/png": "[encoded data removed]",
      "text/plain": [
       "<Figure size 432x288 with 1 Axes>"
      ]
     },
     "metadata": {
      "needs_background": "light"
     },
     "output_type": "display_data"
    }
   ],
   "source": [
    "#plot\n",
    "df_treat_y = df[df['treatment'] == 'Yes']\n",
    "df_treat_n = df[df['treatment'] == 'No']\n",
    "plt.hist([df_treat_y['Country_Num'], df_treat_n['Country_Num']], \n",
    "         bins = 6, label=['Treatment = Yes', 'Treatment = No'])\n",
    "plt.legend()\n",
    "plt.xlabel('Continents')\n",
    "plt.savefig('3_new.png')"
   ]
  },
  {
   "cell_type": "code",
   "execution_count": 123,
   "metadata": {},
   "outputs": [
    {
     "data": {
      "image/png": "[encoded data removed]",
      "text/plain": [
       "<Figure size 432x288 with 1 Axes>"
      ]
     },
     "metadata": {
      "needs_background": "light"
     },
     "output_type": "display_data"
    }
   ],
   "source": [
    "#4. Mental_Health_Consequence and Age\n",
    "df_mhc_y = df[df['mental_health_consequence'] == 'Yes']\n",
    "df_mhc_n = df[df['mental_health_consequence'] == 'No']\n",
    "df_mhc_m = df[df['mental_health_consequence'] == 'Maybe']\n",
    "plt.hist([df_mhc_y['Age'], df_mhc_n['Age'],df_mhc_m['Age']], bins = 4, \\\n",
    "         label=['Yes', 'No', 'Maybe'])\n",
    "plt.legend(loc='upper right')\n",
    "plt.xlabel('Age')\n",
    "plt.ylabel('Entries for mental_health_consequence')\n",
    "plt.savefig('4_new.png')"
   ]
  },
  {
   "cell_type": "code",
   "execution_count": 125,
   "metadata": {},
   "outputs": [
    {
     "data": {
      "image/png": "[encoded data removed]",
      "text/plain": [
       "<Figure size 432x288 with 1 Axes>"
      ]
     },
     "metadata": {
      "needs_background": "light"
     },
     "output_type": "display_data"
    }
   ],
   "source": [
    "#5 Mental health consequence and Gender\n",
    "plt.hist([df_mhc_y['Gender_Num'], df_mhc_n['Gender_Num'], df_mhc_m['Gender_Num']], \n",
    "         bins = 19, label=['Yes', 'No', 'Maybe'])\n",
    "plt.legend()\n",
    "plt.xlabel('Gender Category')\n",
    "plt.ylabel('Entries for mental_health_consequence')\n",
    "plt.savefig('5.png')"
   ]
  },
  {
   "cell_type": "code",
   "execution_count": 126,
   "metadata": {},
   "outputs": [
    {
     "data": {
      "image/png": "[encoded data removed]",
      "text/plain": [
       "<Figure size 432x288 with 1 Axes>"
      ]
     },
     "metadata": {
      "needs_background": "light"
     },
     "output_type": "display_data"
    }
   ],
   "source": [
    "#6 mental health consequence and Country\n",
    "plt.hist([df_mhc_y['Country_Num'], df_mhc_n['Country_Num'], df_mhc_m['Country_Num']], \n",
    "         bins = 6, label=['Yes', 'No', 'Maybe'])\n",
    "plt.legend()\n",
    "plt.xlabel('Continents')\n",
    "plt.ylabel('Entries for mental_health_consequence')\n",
    "plt.savefig('6.png')"
   ]
  },
  {
   "cell_type": "code",
   "execution_count": 127,
   "metadata": {},
   "outputs": [
    {
     "data": {
      "image/png": "[encoded data removed]",
      "text/plain": [
       "<Figure size 432x288 with 1 Axes>"
      ]
     },
     "metadata": {
      "needs_background": "light"
     },
     "output_type": "display_data"
    }
   ],
   "source": [
    "#7 physical health consequence and Age\n",
    "df_phc_y = df[df['phys_health_consequence'] == 'Yes']\n",
    "df_phc_n = df[df['phys_health_consequence'] == 'No']\n",
    "df_phc_m = df[df['phys_health_consequence'] == 'Maybe']\n",
    "plt.hist([df_phc_y['Age'], df_phc_n['Age'],df_phc_m['Age']], bins = 4, \\\n",
    "         label=['Yes', 'No', 'Maybe'])\n",
    "plt.legend(loc='upper right')\n",
    "plt.xlabel('Age')\n",
    "plt.ylabel('Entries for phys_health_consequence')\n",
    "plt.savefig('7.png')"
   ]
  },
  {
   "cell_type": "code",
   "execution_count": 128,
   "metadata": {},
   "outputs": [
    {
     "data": {
      "image/png": "[encoded data removed]",
      "text/plain": [
       "<Figure size 432x288 with 1 Axes>"
      ]
     },
     "metadata": {
      "needs_background": "light"
     },
     "output_type": "display_data"
    }
   ],
   "source": [
    "#8 physical health consequence and Gender\n",
    "plt.hist([df_phc_y['Gender_Num'], df_phc_n['Gender_Num'], df_phc_m['Gender_Num']], \n",
    "         bins = 19, label=['Yes', 'No', 'Maybe'])\n",
    "plt.legend()\n",
    "plt.xlabel('Gender Category')\n",
    "plt.ylabel('Entries for phys_health_consequence')\n",
    "plt.savefig('8.png')"
   ]
  },
  {
   "cell_type": "code",
   "execution_count": 129,
   "metadata": {},
   "outputs": [
    {
     "data": {
      "image/png": "[encoded data removed]",
      "text/plain": [
       "<Figure size 432x288 with 1 Axes>"
      ]
     },
     "metadata": {
      "needs_background": "light"
     },
     "output_type": "display_data"
    }
   ],
   "source": [
    "#9 physical health consequence and Country\n",
    "plt.hist([df_phc_y['Country_Num'], df_phc_n['Country_Num'], df_phc_m['Country_Num']], \n",
    "         bins = 6, label=['Yes', 'No', 'Maybe'])\n",
    "plt.legend()\n",
    "plt.xlabel('Continents')\n",
    "plt.ylabel('Entries for phys_health_consequence')\n",
    "plt.savefig('9.png')"
   ]
  },
  {
   "cell_type": "code",
   "execution_count": 152,
   "metadata": {},
   "outputs": [
    {
     "data": {
      "image/png": "[encoded data removed]",
      "text/plain": [
       "<Figure size 432x288 with 1 Axes>"
      ]
     },
     "metadata": {
      "needs_background": "light"
     },
     "output_type": "display_data"
    }
   ],
   "source": [
    "#Step 4:\n",
    "#Bias Hypothesis\n",
    "#Seeking treatment dependent on country\n",
    "# plt.hist([df_treat_y['Country_Num'], df_treat_n['Country_Num']], \n",
    "#          bins = 6, label=['Treatment = Yes', 'Treatment = No'])\n",
    "# plt.legend()\n",
    "# plt.xlabel('Continents')\n",
    "p1 = plt.bar(df_treat_y['Country_Num'].value_counts().index,df_treat_y['Country_Num'].value_counts().values,\\\n",
    "            label = 'Treatment = Yes')\n",
    "p2 = plt.bar(df_treat_n['Country_Num'].value_counts().index,df_treat_n['Country_Num'].value_counts().values,\\\n",
    "            bottom = df_treat_y['Country_Num'].value_counts().values, label = 'Treatment = No')\n",
    "plt.xlabel('Continents')\n",
    "plt.legend()\n",
    "plt.savefig('10.png')\n",
    "\n",
    "# plt.title('Scores by group and gender')\n",
    "# plt.legend((p1[0], p2[0]), ('Men', 'Women'))"
   ]
  },
  {
   "cell_type": "code",
   "execution_count": 144,
   "metadata": {},
   "outputs": [
    {
     "data": {
      "text/plain": [
       "array([410, 194,  18,   5,   4,   2])"
      ]
     },
     "execution_count": 144,
     "metadata": {},
     "output_type": "execute_result"
    }
   ],
   "source": [
    "#Fair hypothesis\n",
    "#Seeking treatment not dependent on Country\n",
    "df_treat_y['Country_Num'].value_counts().values"
   ]
  },
  {
   "cell_type": "code",
   "execution_count": 135,
   "metadata": {},
   "outputs": [
    {
     "data": {
      "text/plain": [
       "0    343\n",
       "1    239\n",
       "4     18\n",
       "2     12\n",
       "3      7\n",
       "5      3\n",
       "Name: Country_Num, dtype: int64"
      ]
     },
     "execution_count": 135,
     "metadata": {},
     "output_type": "execute_result"
    }
   ],
   "source": [
    "df_treat_n['Country_Num'].value_counts()"
   ]
  },
  {
   "cell_type": "code",
   "execution_count": 158,
   "metadata": {},
   "outputs": [],
   "source": [
    "a = abs(df_treat_y['Country_Num'].value_counts() - df_treat_n['Country_Num'].value_counts())/(df_treat_y['Country_Num'].value_counts() + df_treat_n['Country_Num'].value_counts())"
   ]
  },
  {
   "cell_type": "code",
   "execution_count": 159,
   "metadata": {},
   "outputs": [
    {
     "data": {
      "image/png": "[encoded data removed]",
      "text/plain": [
       "<Figure size 432x288 with 1 Axes>"
      ]
     },
     "metadata": {
      "needs_background": "light"
     },
     "output_type": "display_data"
    }
   ],
   "source": [
    "a\n",
    "plt.plot(a.index,a.values)\n",
    "plt.xlabel('Continents')\n",
    "plt.ylabel('Difference between number of people seeking help')\n",
    "plt.savefig('11.png')"
   ]
  },
  {
   "cell_type": "code",
   "execution_count": 160,
   "metadata": {},
   "outputs": [
    {
     "data": {
      "text/plain": [
       "0.5155378486055777"
      ]
     },
     "execution_count": 160,
     "metadata": {},
     "output_type": "execute_result"
    }
   ],
   "source": [
    "#Step 5\n",
    "df['Country_Num'].mean()"
   ]
  },
  {
   "cell_type": "code",
   "execution_count": 162,
   "metadata": {},
   "outputs": [
    {
     "data": {
      "text/plain": [
       "0.0"
      ]
     },
     "execution_count": 162,
     "metadata": {},
     "output_type": "execute_result"
    }
   ],
   "source": [
    "df['Country_Num'].median()"
   ]
  },
  {
   "cell_type": "code",
   "execution_count": 163,
   "metadata": {},
   "outputs": [
    {
     "data": {
      "text/plain": [
       "0    0\n",
       "dtype: int64"
      ]
     },
     "execution_count": 163,
     "metadata": {},
     "output_type": "execute_result"
    }
   ],
   "source": [
    "df['Country_Num'].mode()"
   ]
  },
  {
   "cell_type": "code",
   "execution_count": 164,
   "metadata": {},
   "outputs": [],
   "source": [
    "df_half = df.sample(n=int(len(df)/2), random_state=1)"
   ]
  },
  {
   "cell_type": "code",
   "execution_count": 165,
   "metadata": {},
   "outputs": [
    {
     "data": {
      "text/plain": [
       "0.5454545454545454"
      ]
     },
     "execution_count": 165,
     "metadata": {},
     "output_type": "execute_result"
    }
   ],
   "source": [
    "df_half['Country_Num'].mean()"
   ]
  },
  {
   "cell_type": "code",
   "execution_count": 166,
   "metadata": {},
   "outputs": [
    {
     "data": {
      "text/plain": [
       "0.0"
      ]
     },
     "execution_count": 166,
     "metadata": {},
     "output_type": "execute_result"
    }
   ],
   "source": [
    "df_half['Country_Num'].median()"
   ]
  },
  {
   "cell_type": "code",
   "execution_count": 167,
   "metadata": {},
   "outputs": [
    {
     "data": {
      "text/plain": [
       "0    0\n",
       "dtype: int64"
      ]
     },
     "execution_count": 167,
     "metadata": {},
     "output_type": "execute_result"
    }
   ],
   "source": [
    "df_half['Country_Num'].mode()"
   ]
  },
  {
   "cell_type": "code",
   "execution_count": 168,
   "metadata": {},
   "outputs": [
    {
     "data": {
      "text/plain": [
       "-0.029916696848967694"
      ]
     },
     "execution_count": 168,
     "metadata": {},
     "output_type": "execute_result"
    }
   ],
   "source": [
    "df['Country_Num'].mean() - df_half['Country_Num'].mean()"
   ]
  },
  {
   "cell_type": "code",
   "execution_count": 169,
   "metadata": {},
   "outputs": [
    {
     "data": {
      "text/plain": [
       "0.0"
      ]
     },
     "execution_count": 169,
     "metadata": {},
     "output_type": "execute_result"
    }
   ],
   "source": [
    "df['Country_Num'].median() - df_half['Country_Num'].median()"
   ]
  },
  {
   "cell_type": "code",
   "execution_count": 170,
   "metadata": {},
   "outputs": [
    {
     "data": {
      "text/plain": [
       "0    0\n",
       "dtype: int64"
      ]
     },
     "execution_count": 170,
     "metadata": {},
     "output_type": "execute_result"
    }
   ],
   "source": [
    "df['Country_Num'].mode() - df_half['Country_Num'].mode()"
   ]
  },
  {
   "cell_type": "code",
   "execution_count": 172,
   "metadata": {},
   "outputs": [
    {
     "data": {
      "image/png": "[encoded data removed]",
      "text/plain": [
       "<Figure size 432x288 with 1 Axes>"
      ]
     },
     "metadata": {
      "needs_background": "light"
     },
     "output_type": "display_data"
    }
   ],
   "source": [
    "#Step6\n",
    "df_half_treat_y = df_half[df_half['treatment'] == 'Yes']\n",
    "df_half_treat_n = df_half[df_half['treatment'] == 'No']\n",
    "plt.hist([df_half_treat_y['Country_Num'], df_half_treat_n['Country_Num']], \n",
    "         bins = 6, label=['Treatment = Yes', 'Treatment = No'])\n",
    "plt.legend()\n",
    "plt.xlabel('Continents')\n",
    "plt.savefig('12.png')"
   ]
  },
  {
   "cell_type": "code",
   "execution_count": 80,
   "metadata": {},
   "outputs": [
    {
     "data": {
      "text/plain": [
       "(array([  2.,  94., 182.,  34.]),\n",
       " array([ 5. , 16.5, 28. , 39.5, 51. ]),\n",
       " <a list of 4 Patch objects>)"
      ]
     },
     "execution_count": 80,
     "metadata": {},
     "output_type": "execute_result"
    },
    {
     "data": {
      "image/png": "[encoded data removed]",
      "text/plain": [
       "<Figure size 432x288 with 1 Axes>"
      ]
     },
     "metadata": {
      "needs_background": "light"
     },
     "output_type": "display_data"
    }
   ],
   "source": [
    "df_half_age_treat_n = df_half[df_half['treatment'] == 'No']\n",
    "plt.hist(df_half_age_treat_n['Age'], bins=4)"
   ]
  }
 ],
 "metadata": {
  "kernelspec": {
   "display_name": "Python 3",
   "language": "python",
   "name": "python3"
  },
  "language_info": {
   "codemirror_mode": {
    "name": "ipython",
    "version": 3
   },
   "file_extension": ".py",
   "mimetype": "text/x-python",
   "name": "python",
   "nbconvert_exporter": "python",
   "pygments_lexer": "ipython3",
   "version": "3.7.3"
  }
 },
 "nbformat": 4,
 "nbformat_minor": 2
}
