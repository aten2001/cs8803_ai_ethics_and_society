{
 "cells": [
  {
   "cell_type": "code",
   "execution_count": 96,
   "metadata": {},
   "outputs": [],
   "source": [
    "from gensim.models import Word2Vec\n",
    "import gensim.models\n",
    "import nltk\n",
    "import numpy as np\n",
    "import glob"
   ]
  },
  {
   "cell_type": "code",
   "execution_count": 2,
   "metadata": {},
   "outputs": [],
   "source": [
    "newmodel = gensim.models.KeyedVectors.load_word2vec_format('reducedvector.bin', binary=True)"
   ]
  },
  {
   "cell_type": "code",
   "execution_count": 3,
   "metadata": {},
   "outputs": [
    {
     "data": {
      "text/plain": [
       "[('woman', 0.5876938104629517),\n",
       " ('girl', 0.5229198932647705),\n",
       " ('young', 0.4971591532230377),\n",
       " ('immortal', 0.4890766739845276),\n",
       " ('spider', 0.47930294275283813)]"
      ]
     },
     "execution_count": 3,
     "metadata": {},
     "output_type": "execute_result"
    }
   ],
   "source": [
    "newmodel.most_similar('man', topn=5)"
   ]
  },
  {
   "cell_type": "code",
   "execution_count": 4,
   "metadata": {},
   "outputs": [
    {
     "data": {
      "text/plain": [
       "0.5876938"
      ]
     },
     "execution_count": 4,
     "metadata": {},
     "output_type": "execute_result"
    }
   ],
   "source": [
    "newmodel.similarity('woman', 'man')"
   ]
  },
  {
   "cell_type": "code",
   "execution_count": 5,
   "metadata": {},
   "outputs": [
    {
     "data": {
      "text/plain": [
       "[('queen', 0.5532454252243042)]"
      ]
     },
     "execution_count": 5,
     "metadata": {},
     "output_type": "execute_result"
    }
   ],
   "source": [
    "newmodel.most_similar(positive=['king', 'woman'], negative=['man'], topn=1)"
   ]
  },
  {
   "cell_type": "code",
   "execution_count": 9,
   "metadata": {},
   "outputs": [],
   "source": [
    "#Task1\n",
    "#Q1\n",
    "#Similarity with man\n",
    "word = 'man'\n",
    "dict_man = {\n",
    "    'boy': newmodel.similarity('boy', word),\n",
    "    'girl': newmodel.similarity('girl', word),\n",
    "    'child': newmodel.similarity('child', word),\n",
    "    'queen': newmodel.similarity('queen', word),\n",
    "    'king': newmodel.similarity('king', word),\n",
    "    'man': newmodel.similarity('man', word),\n",
    "    'woman': newmodel.similarity('woman', word),\n",
    "    'marriage': newmodel.similarity('marriage', word),\n",
    "    'birth': newmodel.similarity('birth', word),\n",
    "    'doctor': newmodel.similarity('doctor', word),\n",
    "    'nurse': newmodel.similarity('nurse', word),\n",
    "    'teacher': newmodel.similarity('teacher', word),\n",
    "    'engineer': newmodel.similarity('engineer', word),\n",
    "    'scientist': newmodel.similarity('scientist', word),\n",
    "    'president': newmodel.similarity('president', word)\n",
    "}"
   ]
  },
  {
   "cell_type": "code",
   "execution_count": 10,
   "metadata": {},
   "outputs": [
    {
     "data": {
      "text/plain": [
       "{'engineer': 0.08736357,\n",
       " 'president': 0.09457928,\n",
       " 'teacher': 0.09874004,\n",
       " 'queen': 0.1104195,\n",
       " 'scientist': 0.112269185,\n",
       " 'birth': 0.12343916,\n",
       " 'nurse': 0.153481,\n",
       " 'marriage': 0.20439342,\n",
       " 'king': 0.26449707,\n",
       " 'doctor': 0.28924733,\n",
       " 'child': 0.33342198,\n",
       " 'boy': 0.33917952,\n",
       " 'girl': 0.52291995,\n",
       " 'woman': 0.5876938,\n",
       " 'man': 1.0}"
      ]
     },
     "execution_count": 10,
     "metadata": {},
     "output_type": "execute_result"
    }
   ],
   "source": [
    "{k: v for k, v in sorted(dict_man.items(), key=lambda item: item[1])}"
   ]
  },
  {
   "cell_type": "code",
   "execution_count": 11,
   "metadata": {},
   "outputs": [],
   "source": [
    "#Similarity with woman\n",
    "word = 'woman'\n",
    "dict_woman = {\n",
    "    'boy': newmodel.similarity('boy', word),\n",
    "    'girl': newmodel.similarity('girl', word),\n",
    "    'child': newmodel.similarity('child', word),\n",
    "    'queen': newmodel.similarity('queen', word),\n",
    "    'king': newmodel.similarity('king', word),\n",
    "    'man': newmodel.similarity('man', word),\n",
    "    'woman': newmodel.similarity('woman', word),\n",
    "    'marriage': newmodel.similarity('marriage', word),\n",
    "    'birth': newmodel.similarity('birth', word),\n",
    "    'doctor': newmodel.similarity('doctor', word),\n",
    "    'nurse': newmodel.similarity('nurse', word),\n",
    "    'teacher': newmodel.similarity('teacher', word),\n",
    "    'engineer': newmodel.similarity('engineer', word),\n",
    "    'scientist': newmodel.similarity('scientist', word),\n",
    "    'president': newmodel.similarity('president', word)\n",
    "}"
   ]
  },
  {
   "cell_type": "code",
   "execution_count": 12,
   "metadata": {},
   "outputs": [
    {
     "data": {
      "text/plain": [
       "{'engineer': 0.04426438,\n",
       " 'president': 0.08462685,\n",
       " 'king': 0.122528546,\n",
       " 'scientist': 0.13731061,\n",
       " 'doctor': 0.19613354,\n",
       " 'teacher': 0.2040782,\n",
       " 'queen': 0.22857243,\n",
       " 'nurse': 0.25435838,\n",
       " 'boy': 0.3121705,\n",
       " 'birth': 0.4203088,\n",
       " 'marriage': 0.42923915,\n",
       " 'girl': 0.5680369,\n",
       " 'man': 0.5876938,\n",
       " 'child': 0.5898086,\n",
       " 'woman': 1.0}"
      ]
     },
     "execution_count": 12,
     "metadata": {},
     "output_type": "execute_result"
    }
   ],
   "source": [
    "{k: v for k, v in sorted(dict_woman.items(), key=lambda item: item[1])}"
   ]
  },
  {
   "cell_type": "code",
   "execution_count": 31,
   "metadata": {},
   "outputs": [],
   "source": [
    "#Q2\n",
    "file = open(\"BATS_3.0/3_Encyclopedic_semantics/E10 [male - female].txt\",\"r\")"
   ]
  },
  {
   "cell_type": "code",
   "execution_count": 32,
   "metadata": {},
   "outputs": [],
   "source": [
    "row_list = file.readlines()"
   ]
  },
  {
   "cell_type": "code",
   "execution_count": 33,
   "metadata": {},
   "outputs": [],
   "source": [
    "row_words = []\n",
    "for i in row_list:\n",
    "    i = i[:-1]\n",
    "    row_words.append(i.split('\\t'))\n",
    "for i in row_words:\n",
    "    i[1] = i[1].split('/')    "
   ]
  },
  {
   "cell_type": "code",
   "execution_count": 34,
   "metadata": {
    "scrolled": true
   },
   "outputs": [
    {
     "data": {
      "text/plain": [
       "[['actor', ['actress']],\n",
       " ['batman', ['batwoman']],\n",
       " ['boar', ['sow']],\n",
       " ['boy', ['girl']],\n",
       " ['brother', ['sister']],\n",
       " ['buck', ['doe']],\n",
       " ['bull', ['cow']],\n",
       " ['businessman', ['businesswoman']],\n",
       " ['chairman', ['chairwoman']],\n",
       " ['dad', ['mom', 'mum']],\n",
       " ['daddy', ['mommy', 'mother', 'mom']],\n",
       " ['duke', ['duchess']],\n",
       " ['emperor', ['empress']],\n",
       " ['father', ['mother']],\n",
       " ['fisherman', ['fisherwoman']],\n",
       " ['fox', ['vixen']],\n",
       " ['gentleman', ['lady', 'gentlewoman', 'madam']],\n",
       " ['god', ['goddess']],\n",
       " ['grandfather', ['grandmother']],\n",
       " ['grandpa', ['grandma']],\n",
       " ['grandson', ['granddaughter']],\n",
       " ['groom', ['bride']],\n",
       " ['headmaster', ['headmistress']],\n",
       " ['heir', ['heiress']],\n",
       " ['hero', ['heroine']],\n",
       " ['hound', ['bitch']],\n",
       " ['husband', ['wife']],\n",
       " ['king', ['queen']],\n",
       " ['lion', ['lioness']],\n",
       " ['man', ['woman']],\n",
       " ['manager', ['manageress']],\n",
       " ['mister', ['miss', 'missis', 'missus', \"mis'ess\", 'mrs', 'ms', 'madam']],\n",
       " ['murderer', ['murderess']],\n",
       " ['nephew', ['niece']],\n",
       " ['poet', ['poetess']],\n",
       " ['policeman', ['policewoman']],\n",
       " ['prince', ['princess']],\n",
       " ['ram', ['ewe']],\n",
       " ['rooster', ['hen']],\n",
       " ['sculptor', ['sculptress']],\n",
       " ['sir', ['madam']],\n",
       " ['son', ['daughter']],\n",
       " ['stallion', ['mare']],\n",
       " ['stepfather', ['stepmother']],\n",
       " ['superman', ['superwoman']],\n",
       " ['tiger', ['tigress']],\n",
       " ['uncle', ['aunt']],\n",
       " ['valet',\n",
       "  ['maid',\n",
       "   'maidservant',\n",
       "   'housemaid',\n",
       "   'chambermaid',\n",
       "   'handmaid',\n",
       "   'handmaiden',\n",
       "   'parlormaid',\n",
       "   'parlourmaid']],\n",
       " ['waiter', ['waitress']],\n",
       " ['webmaster', ['webmistres']]]"
      ]
     },
     "execution_count": 34,
     "metadata": {},
     "output_type": "execute_result"
    }
   ],
   "source": [
    "row_words"
   ]
  },
  {
   "cell_type": "code",
   "execution_count": 37,
   "metadata": {
    "collapsed": true
   },
   "outputs": [
    {
     "name": "stdout",
     "output_type": "stream",
     "text": [
      "actor    actress:  0.86941457\n",
      "boar    sow:  0.49044377\n",
      "boy    girl:  0.47565967\n",
      "brother    sister:  0.73543334\n",
      "buck    doe:  0.15203016\n",
      "bull    cow:  0.44119757\n",
      "businessman    businesswoman:  0.6755804\n",
      "dad    mom:  0.74045944\n",
      "dad    mum:  0.57334465\n",
      "daddy    mommy:  0.42494777\n",
      "daddy    mother:  0.25613183\n",
      "daddy    mom:  0.61681795\n",
      "duke    duchess:  0.6362255\n",
      "emperor    empress:  0.66597676\n",
      "father    mother:  0.832764\n",
      "fox    vixen:  0.08036125\n",
      "gentleman    lady:  0.3554653\n",
      "gentleman    madam:  0.4857473\n",
      "god    goddess:  0.39541078\n",
      "grandfather    grandmother:  0.7366434\n",
      "grandpa    grandma:  0.55757904\n",
      "grandson    granddaughter:  0.6778581\n",
      "groom    bride:  0.3520856\n",
      "heir    heiress:  0.5088582\n",
      "hero    heroine:  0.46802157\n",
      "hound    bitch:  0.39353663\n",
      "husband    wife:  0.6377156\n",
      "king    queen:  0.5685571\n",
      "man    woman:  0.5876938\n",
      "mister    miss:  0.4692849\n",
      "mister    mrs:  0.49664253\n",
      "mister    ms:  0.15184526\n",
      "mister    madam:  0.6186389\n",
      "nephew    niece:  0.73131126\n",
      "poet    poetess:  0.52189505\n",
      "prince    princess:  0.7285844\n",
      "ram    ewe:  0.055268407\n",
      "rooster    hen:  0.29030108\n",
      "sir    madam:  0.22270176\n",
      "son    daughter:  0.7831377\n",
      "stallion    mare:  0.3589837\n",
      "stepfather    stepmother:  0.7483355\n",
      "tiger    tigress:  0.22913313\n",
      "uncle    aunt:  0.6715928\n",
      "valet    maid:  0.44579548\n",
      "valet    handmaid:  0.5327758\n",
      "waiter    waitress:  0.5982927\n"
     ]
    }
   ],
   "source": [
    "for i in row_words:\n",
    "    for j in i[1]:\n",
    "        word1 = i[0]\n",
    "        word2 = j\n",
    "        if word1 in newmodel and word2 in newmodel:\n",
    "            print(i[0] + '    ' + j + ':  ' + str(newmodel.similarity(word1, word2)))  "
   ]
  },
  {
   "cell_type": "code",
   "execution_count": 44,
   "metadata": {
    "collapsed": true
   },
   "outputs": [
    {
     "name": "stdout",
     "output_type": "stream",
     "text": [
      "Word    Black    White    Asian\n",
      "actor & 0.11718847 & 0.112154886 & 0.13501917\n",
      "batman & 0.12345499 & 0.07052541 & 0.05379804\n",
      "boar & 0.2584654 & 0.25323373 & -0.009064779\n",
      "boy & 0.20971368 & 0.17648886 & 0.101264946\n",
      "brother & -0.0031859055 & 0.009758614 & -0.004879918\n",
      "buck & 0.20390256 & 0.18934101 & 0.034704495\n",
      "bull & 0.214998 & 0.3062246 & 0.06472506\n",
      "businessman & 0.0144363865 & 0.0057638353 & 0.032001115\n",
      "chairman & 0.056033432 & 0.042048335 & 0.07964939\n",
      "dad & 0.016293392 & 0.055559866 & -0.073422946\n",
      "daddy & 0.2812515 & 0.19687036 & -0.028832044\n",
      "duke & -0.016956173 & 0.022518605 & -0.03930489\n",
      "emperor & 0.0071171746 & -0.017861646 & 0.04829904\n",
      "father & 0.06559749 & 0.09366952 & -0.019721184\n",
      "fisherman & 0.19385749 & 0.11725126 & 0.03571578\n",
      "fox & 0.21027085 & 0.21393023 & 0.1580783\n",
      "gentleman & 0.0607187 & 0.107854046 & -0.07444217\n",
      "god & -0.03965548 & -0.025656909 & -0.06705533\n",
      "grandfather & 0.006285418 & 0.029033124 & 0.010667495\n",
      "grandpa & 0.093665116 & 0.04892784 & -0.012741977\n",
      "grandson & -0.040286995 & -0.029455937 & -0.12832639\n",
      "groom & 0.056712423 & 0.07927805 & -0.07606879\n",
      "headmaster & 0.020722339 & 0.017382141 & -0.14455618\n",
      "heir & -0.005706014 & -0.040829297 & -0.040426217\n",
      "hero & 0.09830142 & 0.07290647 & 0.02172384\n",
      "hound & 0.2606691 & 0.29115742 & 0.16440864\n",
      "husband & 0.028756931 & 0.037834853 & 0.01817239\n",
      "king & 0.055144865 & 0.067879334 & -0.043314017\n",
      "lion & 0.39581382 & 0.41088715 & 0.08285851\n",
      "man & 0.19195054 & 0.2250261 & 0.02412987\n",
      "manager & -0.015603829 & -0.024080247 & -0.0032726089\n",
      "mister & 0.17819813 & 0.19546364 & -0.12864235\n",
      "murderer & 0.11469218 & 0.088783264 & -0.112529926\n",
      "nephew & -0.09416974 & -0.061811283 & -0.102951765\n",
      "poet & 0.027736388 & 0.01990934 & 0.05144231\n",
      "policeman & 0.047845848 & 0.04271179 & -0.086236015\n",
      "prince & 0.098829485 & 0.086296335 & 0.008170079\n",
      "ram & -0.07121579 & -0.026666922 & -0.16180189\n",
      "rooster & 0.104399785 & 0.062109508 & -0.07390449\n",
      "sculptor & 0.03023398 & 0.019829229 & 0.061279356\n",
      "sir & 0.046330474 & 0.07660729 & -0.084699735\n",
      "son & -0.029756725 & -0.0070160106 & -0.02929385\n",
      "stallion & 0.27896073 & 0.28766167 & 0.024622679\n",
      "stepfather & 0.01157003 & 0.01850352 & -0.16458842\n",
      "superman & 0.11782715 & 0.12685847 & 0.043981194\n",
      "tiger & 0.29617834 & 0.30093005 & 0.08696288\n",
      "uncle & 0.025488578 & 0.06250765 & -0.079233244\n",
      "valet & -0.013618473 & -0.043459453 & -0.16665864\n",
      "waiter & 0.08911914 & 0.09162006 & -0.07081735\n",
      "webmaster & -0.112115294 & -0.07853847 & -0.09830445\n"
     ]
    }
   ],
   "source": [
    "print('Word' + '    ' + 'Black' + '    ' + 'White' + '    ' + 'Asian')\n",
    "for i in row_words:\n",
    "    word1 = i[0]\n",
    "    word2 = 'black'\n",
    "    word3 = 'white'\n",
    "    word4 = 'asian'\n",
    "    if word1 in newmodel and word2 in newmodel and word3 in newmodel and word4 in newmodel:\n",
    "        print(i[0] + ' & ' + str(newmodel.similarity(word1, word2)) + ' & ' + \\\n",
    "              str(newmodel.similarity(word1, word3)) + ' & ' + str(newmodel.similarity(word1, word4)))  "
   ]
  },
  {
   "cell_type": "code",
   "execution_count": 88,
   "metadata": {},
   "outputs": [],
   "source": [
    "#Q3\n",
    "#a)\n",
    "my_analogies = [newmodel.similarity('king', 'queen'),  newmodel.similarity('liquid', 'solid'), \\\n",
    "               newmodel.similarity('sad', 'happy'), newmodel.similarity('teacher', 'school'), \\\n",
    "               newmodel.similarity('japan', 'sushi'), newmodel.similarity('kennel', 'dog'), \\\n",
    "               newmodel.similarity('sky', 'blue'), newmodel.similarity('judge', 'bench'), \\\n",
    "               newmodel.similarity('genius', 'stupid'), newmodel.similarity('jail', 'jailer'), \\\n",
    "               newmodel.similarity('line', 'polygon'), newmodel.similarity('computer', 'cd'), \\\n",
    "               newmodel.similarity('house', 'stuff'), newmodel.similarity('sickness', 'health')]\n"
   ]
  },
  {
   "cell_type": "code",
   "execution_count": 89,
   "metadata": {},
   "outputs": [
    {
     "data": {
      "text/plain": [
       "14"
      ]
     },
     "execution_count": 89,
     "metadata": {},
     "output_type": "execute_result"
    }
   ],
   "source": [
    "len(my_analogies)"
   ]
  },
  {
   "cell_type": "code",
   "execution_count": 90,
   "metadata": {},
   "outputs": [
    {
     "data": {
      "text/plain": [
       "[0.5685571,\n",
       " 0.65464735,\n",
       " 0.44885093,\n",
       " 0.5326568,\n",
       " 0.011866331,\n",
       " 0.28415978,\n",
       " 0.44396985,\n",
       " 0.30267337,\n",
       " 0.35719013,\n",
       " 0.22684216,\n",
       " 0.22809681,\n",
       " 0.23679918,\n",
       " -0.0067000575,\n",
       " 0.19527602]"
      ]
     },
     "execution_count": 90,
     "metadata": {},
     "output_type": "execute_result"
    }
   ],
   "source": [
    "my_analogies"
   ]
  },
  {
   "cell_type": "code",
   "execution_count": 60,
   "metadata": {},
   "outputs": [
    {
     "data": {
      "text/plain": [
       "[('queen', 0.5532454252243042)]"
      ]
     },
     "execution_count": 60,
     "metadata": {},
     "output_type": "execute_result"
    }
   ],
   "source": [
    "#b)\n",
    "newmodel.most_similar(positive=['king', 'woman'], negative=['man'], topn=1)"
   ]
  },
  {
   "cell_type": "code",
   "execution_count": 74,
   "metadata": {},
   "outputs": [
    {
     "data": {
      "text/plain": [
       "[('solid', 0.45000386238098145)]"
      ]
     },
     "execution_count": 74,
     "metadata": {},
     "output_type": "execute_result"
    }
   ],
   "source": [
    "newmodel.most_similar(positive=['liquid', 'ice'], negative=['water'], topn=1)"
   ]
  },
  {
   "cell_type": "code",
   "execution_count": 75,
   "metadata": {},
   "outputs": [
    {
     "data": {
      "text/plain": [
       "[('glory', 0.4403817355632782)]"
      ]
     },
     "execution_count": 75,
     "metadata": {},
     "output_type": "execute_result"
    }
   ],
   "source": [
    "newmodel.most_similar(positive=['sad', 'good'], negative=['bad'], topn=1)"
   ]
  },
  {
   "cell_type": "code",
   "execution_count": 76,
   "metadata": {},
   "outputs": [
    {
     "data": {
      "text/plain": [
       "[('institution', 0.48289814591407776)]"
      ]
     },
     "execution_count": 76,
     "metadata": {},
     "output_type": "execute_result"
    }
   ],
   "source": [
    "newmodel.most_similar(positive=['teacher', 'hospital'], negative=['nurse'], topn=1)"
   ]
  },
  {
   "cell_type": "code",
   "execution_count": 77,
   "metadata": {},
   "outputs": [
    {
     "data": {
      "text/plain": [
       "[('dishes', 0.5763506889343262)]"
      ]
     },
     "execution_count": 77,
     "metadata": {},
     "output_type": "execute_result"
    }
   ],
   "source": [
    "newmodel.most_similar(positive=['japan', 'pizza'], negative=['usa'], topn=1)"
   ]
  },
  {
   "cell_type": "code",
   "execution_count": 78,
   "metadata": {},
   "outputs": [
    {
     "data": {
      "text/plain": [
       "[('hound', 0.423166424036026)]"
      ]
     },
     "execution_count": 78,
     "metadata": {},
     "output_type": "execute_result"
    }
   ],
   "source": [
    "newmodel.most_similar(positive=['dog', 'house'], negative=['human'], topn=1)"
   ]
  },
  {
   "cell_type": "code",
   "execution_count": 79,
   "metadata": {},
   "outputs": [
    {
     "data": {
      "text/plain": [
       "[('blue', 0.5478642582893372)]"
      ]
     },
     "execution_count": 79,
     "metadata": {},
     "output_type": "execute_result"
    }
   ],
   "source": [
    "newmodel.most_similar(positive=['sky', 'green'], negative=['grass'], topn=1)"
   ]
  },
  {
   "cell_type": "code",
   "execution_count": 80,
   "metadata": {},
   "outputs": [
    {
     "data": {
      "text/plain": [
       "[('prosecution', 0.5186458826065063)]"
      ]
     },
     "execution_count": 80,
     "metadata": {},
     "output_type": "execute_result"
    }
   ],
   "source": [
    "newmodel.most_similar(positive=['judge', 'throne'], negative=['king'], topn=1)"
   ]
  },
  {
   "cell_type": "code",
   "execution_count": 81,
   "metadata": {},
   "outputs": [
    {
     "data": {
      "text/plain": [
       "[('theorist', 0.428088903427124)]"
      ]
     },
     "execution_count": 81,
     "metadata": {},
     "output_type": "execute_result"
    }
   ],
   "source": [
    "newmodel.most_similar(positive=['genius', 'dwarf'], negative=['giant'], topn=1)"
   ]
  },
  {
   "cell_type": "code",
   "execution_count": 82,
   "metadata": {},
   "outputs": [
    {
     "data": {
      "text/plain": [
       "[('peress', 0.5444425344467163)]"
      ]
     },
     "execution_count": 82,
     "metadata": {},
     "output_type": "execute_result"
    }
   ],
   "source": [
    "newmodel.most_similar(positive=['jail', 'dean'], negative=['college'], topn=1)"
   ]
  },
  {
   "cell_type": "code",
   "execution_count": 83,
   "metadata": {},
   "outputs": [
    {
     "data": {
      "text/plain": [
       "[('lines', 0.4287526607513428)]"
      ]
     },
     "execution_count": 83,
     "metadata": {},
     "output_type": "execute_result"
    }
   ],
   "source": [
    "newmodel.most_similar(positive=['line', 'circle'], negative=['arc'], topn=1)"
   ]
  },
  {
   "cell_type": "code",
   "execution_count": 85,
   "metadata": {},
   "outputs": [
    {
     "data": {
      "text/plain": [
       "[('peripherals', 0.6654507517814636)]"
      ]
     },
     "execution_count": 85,
     "metadata": {},
     "output_type": "execute_result"
    }
   ],
   "source": [
    "newmodel.most_similar(positive=['computer', 'cassette'], negative=['video'], topn=1)"
   ]
  },
  {
   "cell_type": "code",
   "execution_count": 86,
   "metadata": {},
   "outputs": [
    {
     "data": {
      "text/plain": [
       "[('houses', 0.4264702796936035)]"
      ]
     },
     "execution_count": 86,
     "metadata": {},
     "output_type": "execute_result"
    }
   ],
   "source": [
    "newmodel.most_similar(positive=['house', 'planet'], negative=['universe'], topn=1)"
   ]
  },
  {
   "cell_type": "code",
   "execution_count": 87,
   "metadata": {},
   "outputs": [
    {
     "data": {
      "text/plain": [
       "[('impious', 0.49606096744537354)]"
      ]
     },
     "execution_count": 87,
     "metadata": {},
     "output_type": "execute_result"
    }
   ],
   "source": [
    "newmodel.most_similar(positive=['sickness', 'wealth'], negative=['poverty'], topn=1)"
   ]
  },
  {
   "cell_type": "code",
   "execution_count": 91,
   "metadata": {},
   "outputs": [],
   "source": [
    "#c)\n",
    "model_analogies = [0.5532454252243042, 0.45000386238098145, 0.4403817355632782, 0.48289814591407776, \\\n",
    "                  0.5763506889343262, 0.423166424036026, 0.5478642582893372, 0.5186458826065063, \\\n",
    "                  0.428088903427124, 0.5444425344467163, 0.4287526607513428, 0.6654507517814636, \\\n",
    "                  0.4264702796936035, 0.49606096744537354]"
   ]
  },
  {
   "cell_type": "code",
   "execution_count": 92,
   "metadata": {},
   "outputs": [
    {
     "data": {
      "text/plain": [
       "14"
      ]
     },
     "execution_count": 92,
     "metadata": {},
     "output_type": "execute_result"
    }
   ],
   "source": [
    "len(model_analogies)"
   ]
  },
  {
   "cell_type": "code",
   "execution_count": 95,
   "metadata": {},
   "outputs": [
    {
     "data": {
      "text/plain": [
       "[0.5532454252243042,\n",
       " 0.45000386238098145,\n",
       " 0.4403817355632782,\n",
       " 0.48289814591407776,\n",
       " 0.5763506889343262,\n",
       " 0.423166424036026,\n",
       " 0.5478642582893372,\n",
       " 0.5186458826065063,\n",
       " 0.428088903427124,\n",
       " 0.5444425344467163,\n",
       " 0.4287526607513428,\n",
       " 0.6654507517814636,\n",
       " 0.4264702796936035,\n",
       " 0.49606096744537354]"
      ]
     },
     "execution_count": 95,
     "metadata": {},
     "output_type": "execute_result"
    }
   ],
   "source": [
    "model_analogies"
   ]
  },
  {
   "cell_type": "code",
   "execution_count": 94,
   "metadata": {},
   "outputs": [
    {
     "data": {
      "text/plain": [
       "array([[ 1.        , -0.10578161],\n",
       "       [-0.10578161,  1.        ]])"
      ]
     },
     "execution_count": 94,
     "metadata": {},
     "output_type": "execute_result"
    }
   ],
   "source": [
    "np.corrcoef(my_analogies,model_analogies)"
   ]
  },
  {
   "cell_type": "code",
   "execution_count": 111,
   "metadata": {},
   "outputs": [],
   "source": [
    "#Task2\n",
    "file_names = glob.glob(\"crop_part1/*.jpg\")"
   ]
  },
  {
   "cell_type": "code",
   "execution_count": 114,
   "metadata": {},
   "outputs": [],
   "source": [
    "filename_data = []\n",
    "for i in file_names:\n",
    "    i = i[11:-13]\n",
    "    filename_data.append(i.split('_'))"
   ]
  },
  {
   "cell_type": "code",
   "execution_count": 115,
   "metadata": {},
   "outputs": [
    {
     "data": {
      "text/plain": [
       "[['9', '1', '2', '20161219204347420'],\n",
       " ['1', '1', '2', '20161219154612988'],\n",
       " ['16', '0', '0', '20170104003740977'],\n",
       " ['1', '1', '3', '20161219230734016'],\n",
       " ['26', '1', '1', '20170103181931657'],\n",
       " ['2', '0', '2', '20161219141650121'],\n",
       " ['53', '1', '0', '20170110143534851'],\n",
       " ['36', '1', '4', '20170104172843788'],\n",
       " ['37', '0', '0', '20170104205628245'],\n",
       " ['10', '0', '1', '20170110223848885'],\n",
       " ['1', '0', '2', '20161219205313061'],\n",
       " ['52', '0', '0', '20170104212337021'],\n",
       " ['18', '1', '0', '20170109212830216'],\n",
       " ['34', '1', '3', '20170104235537715'],\n",
       " ['34', '1', '4', '20170103230336761'],\n",
       " ['34', '1', '0', '20170104174537956'],\n",
       " ['30', '0', '0', '20170104000150443'],\n",
       " ['75', '1', '3', '20170110175327928'],\n",
       " ['24', '1', '2', '20170104020224692'],\n",
       " ['86', '1', '0', '20170110180113129'],\n",
       " ['3', '0', '3', '20161219225157056'],\n",
       " ['54', '1', '0', '20170110141340224'],\n",
       " ['60', '1', '0', '20170110141610416'],\n",
       " ['1', '0', '2', '20161219211357821'],\n",
       " ['59', '0', '0', '20170111203940975'],\n",
       " ['41', '1', '0', '20170104185117127'],\n",
       " ['3', '1', '4', '20170103205114064'],\n",
       " ['10', '1', '0', '20170109204259563'],\n",
       " ['3', '0', '0', '20170110213411465'],\n",
       " ['37', '1', '0', '20170103183817362'],\n",
       " ['5', '1', '3', '20161220221527498'],\n",
       " ['45', '0', '0', '20170104205911974'],\n",
       " ['35', '0', '3', '20170109132951262'],\n",
       " ['5', '1', '1', '20170104010044345'],\n",
       " ['2', '0', '2', '20161219222215999'],\n",
       " ['3', '1', '4', '20170104005006111'],\n",
       " ['8', '1', '0', '20170109203617429'],\n",
       " ['56', '1', '3', '20170109132208103'],\n",
       " ['4', '0', '0', '20170110224413618'],\n",
       " ['54', '0', '0', '20170104212522653'],\n",
       " ['15', '1', '4', '20170103214742821'],\n",
       " ['96', '1', '1', '20170110183853718'],\n",
       " ['1', '1', '0', '20170109191148861'],\n",
       " ['26', '1', '4', '20161221193701030'],\n",
       " ['44', '0', '0', '20170105173313757'],\n",
       " ['45', '0', '0', '20170104194418815'],\n",
       " ['56', '1', '0', '20170110154644528'],\n",
       " ['5', '0', '3', '20161220220030442'],\n",
       " ['23', '1', '3', '20170104223200053'],\n",
       " ['1', '0', '0', '20161219163425847'],\n",
       " ['18', '1', '0', '20170109212647587'],\n",
       " ['4', '1', '0', '20170109190928456'],\n",
       " ['61', '1', '0', '20170109142140107'],\n",
       " ['1', '0', '4', '20161221201411850'],\n",
       " ['12', '1', '0', '20170109203628860'],\n",
       " ['40', '0', '4', '20170104001839285'],\n",
       " ['53', '0', '0', '20170109012753174'],\n",
       " ['60', '1', '0', '20170110150258412'],\n",
       " ['25', '1', '4', '20170103230304689'],\n",
       " ['8', '0', '0', '20170103210825483'],\n",
       " ['1', '0', '4', '20161221195030936'],\n",
       " ['60', '1', '0', '20170110152933482'],\n",
       " ['19', '1', '0', '20170104011946801'],\n",
       " ['26', '1', '1', '20170103225852672'],\n",
       " ['2', '0', '0', '20170110211511626'],\n",
       " ['45', '1', '0', '20170104205620028'],\n",
       " ['8', '1', '0', '20170109201724457'],\n",
       " ['38', '1', '0', '20170109221205343'],\n",
       " ['18', '1', '0', '20170109214251980'],\n",
       " ['71', '0', '0', '20170109015622110'],\n",
       " ['49', '1', '0', '20170110154336582'],\n",
       " ['53', '0', '0', '20170111171747396'],\n",
       " ['25', '0', '2', '20170104192902767'],\n",
       " ['36', '1', '0', '20170104172916913'],\n",
       " ['89', '0', '3', '20170105175600694'],\n",
       " ['53', '0', '0', '20170105173248910'],\n",
       " ['41', '1', '3', '20170104214413309'],\n",
       " ['21', '1', '4', '20170103230521217'],\n",
       " ['60', '1', '0', '20170110122626700'],\n",
       " ['4', '0', '0', '20170110224705396'],\n",
       " ['35', '1', '0', '20170103163453110'],\n",
       " ['1', '0', '2', '20161219205318388'],\n",
       " ['22', '1', '4', '20170103223356448'],\n",
       " ['1', '1', '1', '20170109194548732'],\n",
       " ['68', '1', '0', '20170110122503348'],\n",
       " ['27', '1', '4', '20170103234931350'],\n",
       " ['33', '1', '3', '20170104235051234'],\n",
       " ['19', '1', '0', '20170103201812887'],\n",
       " ['26', '1', '3', '20170104222955855'],\n",
       " ['56', '1', '2', '20170105000902100'],\n",
       " ['16', '0', '0', '20170110231633585'],\n",
       " ['3', '1', '2', '20161219155421253'],\n",
       " ['80', '0', '0', '20170111205541652'],\n",
       " ['16', '0', '0', '20170110232208589'],\n",
       " ['57', '0', '0', '20170103183943554'],\n",
       " ['21', '0', '4', '20161223214826657'],\n",
       " ['25', '1', '4', '20161220222242243'],\n",
       " ['52', '0', '0', '20170104212253932'],\n",
       " ['16', '1', '1', '20170109213003514'],\n",
       " ['22', '1', '3', '20170104223452679'],\n",
       " ['4', '0', '2', '20161219200030036'],\n",
       " ['7', '1', '2', '20161219190156114'],\n",
       " ['37', '0', '2', '20170104022325581'],\n",
       " ['26', '0', '3', '20170104230424841'],\n",
       " ['69', '1', '0', '20170110141304032'],\n",
       " ['55', '0', '0', '20170104212750765'],\n",
       " ['8', '0', '0', '20170110220309370'],\n",
       " ['24', '1', '4', '20170103225121913'],\n",
       " ['56', '0', '3', '20170104232205049'],\n",
       " ['36', '0', '3', '20170104220654654'],\n",
       " ['4', '1', '1', '20161219160210758'],\n",
       " ['26', '1', '3', '20170104223140343'],\n",
       " ['85', '1', '0', '20170110183711497'],\n",
       " ['39', '0', '0', '20170109004718122'],\n",
       " ['59', '1', '0', '20170105171834484'],\n",
       " ['71', '1', '0', '20170110153303997'],\n",
       " ['1', '1', '1', '20161219155940125'],\n",
       " ['32', '0', '3', '20170104201821698'],\n",
       " ['24', '1', '0', '20170103180635111'],\n",
       " ['15', '0', '3', '20170104225254497'],\n",
       " ['55', '1', '0', '20170110122115175'],\n",
       " ['1', '0', '4', '20161221193606310'],\n",
       " ['1', '1', '3', '20161220144645535'],\n",
       " ['33', '1', '0', '20170104165723873'],\n",
       " ['58', '0', '0', '20170105173550604'],\n",
       " ['1', '1', '3', '20161219225238384'],\n",
       " ['27', '0', '0', '20170104231544105'],\n",
       " ['26', '0', '0', '20170104230421569'],\n",
       " ['2', '0', '2', '20161219205134348'],\n",
       " ['52', '0', '0', '20170104184201550'],\n",
       " ['55', '1', '0', '20170110160643422'],\n",
       " ['23', '1', '0', '20170105002627948'],\n",
       " ['9', '0', '0', '20170110220712974'],\n",
       " ['2', '0', '2', '20161219163447671'],\n",
       " ['60', '0', '0', '20170111171747538'],\n",
       " ['17', '1', '4', '20170102234911226'],\n",
       " ['5', '1', '3', '20161219225937112'],\n",
       " ['29', '1', '0', '20170103181157688'],\n",
       " ['37', '0', '3', '20170105175547134'],\n",
       " ['8', '1', '1', '20170109203648153'],\n",
       " ['1', '0', '2', '20161219204958037'],\n",
       " ['90', '0', '1', '20170111223916765'],\n",
       " ['13', '1', '0', '20170110224453650'],\n",
       " ['48', '0', '4', '20170104211610652'],\n",
       " ['51', '0', '0', '20170104210526204'],\n",
       " ['38', '0', '0', '20170104165306497'],\n",
       " ['85', '1', '0', '20170110184025360'],\n",
       " ['46', '1', '0', '20170110154306423'],\n",
       " ['65', '0', '0', '20170103183632050'],\n",
       " ['20', '0', '0', '20170104230054071'],\n",
       " ['19', '1', '0', '20170109213113295'],\n",
       " ['19', '1', '0', '20170109212458403'],\n",
       " ['23', '1', '3', '20170104222248295'],\n",
       " ['1', '1', '0', '20161219190725427'],\n",
       " ['41', '1', '0', '20170103181204176'],\n",
       " ['17', '0', '0', '20170110231820806'],\n",
       " ['3', '1', '2', '20161219141251896'],\n",
       " ['79', '0', '0', '20170111222200062'],\n",
       " ['31', '1', '0', '20170103180729440'],\n",
       " ['34', '0', '0', '20170105183623375'],\n",
       " ['49', '1', '3', '20170109132625049'],\n",
       " ['80', '1', '0', '20170110183817822'],\n",
       " ['45', '0', '0', '20170104211648292'],\n",
       " ['5', '0', '0', '20170110220049707'],\n",
       " ['31', '1', '0', '20170104234835075'],\n",
       " ['69', '1', '0', '20170110153451295'],\n",
       " ['10', '0', '1', '20170110220523360'],\n",
       " ['1', '0', '3', '20161220223225003'],\n",
       " ['57', '1', '0', '20170109132244248'],\n",
       " ['83', '1', '0', '20170110160644142'],\n",
       " ['11', '1', '0', '20170109205136852'],\n",
       " ['50', '1', '0', '20170104213643230'],\n",
       " ['25', '1', '3', '20170104231501635'],\n",
       " ['54', '0', '0', '20170109150353590'],\n",
       " ['21', '1', '3', '20170104222108390'],\n",
       " ['28', '0', '0', '20170105164905292'],\n",
       " ['52', '1', '0', '20170110152849848'],\n",
       " ['87', '0', '0', '20170111222120006'],\n",
       " ['36', '1', '4', '20170105001239982'],\n",
       " ['77', '1', '2', '20170110175320274'],\n",
       " ['45', '0', '4', '20170104200726522'],\n",
       " ['63', '0', '0', '20170111171747613'],\n",
       " ['80', '1', '0', '20170109142913604'],\n",
       " ['2', '0', '4', '20161221202339874'],\n",
       " ['90', '0', '0', '20170111210501751'],\n",
       " ['67', '0', '0', '20170109002521701'],\n",
       " ['1', '1', '0', '20170109192402736'],\n",
       " ['2', '1', '4', '20170103213208251'],\n",
       " ['36', '1', '2', '20170109132405452'],\n",
       " ['5', '1', '2', '20161219192202650'],\n",
       " ['4', '1', '0', '20170109191135825'],\n",
       " ['23', '1', '3', '20170104222316911'],\n",
       " ['28', '0', '3', '20170109002910810'],\n",
       " ['11', '1', '3', '20170104223632543'],\n",
       " ['13', '1', '4', '20170103212548662'],\n",
       " ['28', '1', '4', '20170103235832524'],\n",
       " ['69', '1', '0', '20170110141630303'],\n",
       " ['3', '1', '2', '20161219142312449'],\n",
       " ['14', '1', '0', '20170103163023120'],\n",
       " ['35', '1', '3', '20170104214457383'],\n",
       " ['62', '1', '3', '20170109133411698'],\n",
       " ['17', '0', '3', '20161219224759672'],\n",
       " ['63', '0', '0', '20170105173717909'],\n",
       " ['60', '1', '0', '20170110151345930'],\n",
       " ['5', '0', '1', '20170110213654372'],\n",
       " ['2', '0', '2', '20161219221701671'],\n",
       " ['1', '1', '0', '20170109191226882'],\n",
       " ['6', '0', '0', '20170110215331722'],\n",
       " ['47', '0', '0', '20170109012320435'],\n",
       " ['60', '1', '0', '20170110151441645'],\n",
       " ['58', '1', '0', '20170104212157395'],\n",
       " ['69', '1', '0', '20170110122730511'],\n",
       " ['1', '0', '2', '20161219222043223'],\n",
       " ['26', '1', '2', '20170104020934116'],\n",
       " ['45', '1', '0', '20170103184012435'],\n",
       " ['14', '0', '0', '20170110224519294'],\n",
       " ['1', '1', '2', '20161219202727078'],\n",
       " ['26', '0', '3', '20170104230301625'],\n",
       " ['26', '1', '2', '20170104021717909'],\n",
       " ['42', '0', '2', '20170104205142164'],\n",
       " ['1', '1', '0', '20170109191021631'],\n",
       " ['2', '1', '0', '20161219224527744'],\n",
       " ['12', '1', '0', '20170102234723371'],\n",
       " ['22', '0', '2', '20170104015701971'],\n",
       " ['85', '1', '0', '20170110182358244'],\n",
       " ['1', '0', '3', '20161220145416255'],\n",
       " ['1', '1', '0', '20170109190811756'],\n",
       " ['33', '1', '4', '20170103181754609'],\n",
       " ['18', '1', '0', '20170109213856511'],\n",
       " ['24', '1', '0', '20170109132509565'],\n",
       " ['42', '0', '0', '20170104205801060'],\n",
       " ['1', '0', '3', '20161219225241152'],\n",
       " ['35', '0', '2', '20170105172512670'],\n",
       " ['45', '0', '0', '20170111204133863'],\n",
       " ['25', '1', '2', '20170104020903060'],\n",
       " ['52', '1', '0', '20170103163625630'],\n",
       " ['28', '0', '0', '20170105164834828'],\n",
       " ['69', '1', '0', '20170110152927513'],\n",
       " ['8', '1', '2', '20161219163616367'],\n",
       " ['8', '1', '0', '20170109203644920'],\n",
       " ['31', '1', '0', '20170103183812243'],\n",
       " ['3', '0', '2', '20161219204727005'],\n",
       " ['38', '1', '3', '20170104214200582'],\n",
       " ['1', '0', '3', '20161220220606705'],\n",
       " ['22', '1', '4', '20170103212717246'],\n",
       " ['29', '1', '3', '20170104232729436'],\n",
       " ['35', '0', '2', '20170104201518561'],\n",
       " ['1', '0', '0', '20170110213013468'],\n",
       " ['1', '1', '2', '20161219221243095'],\n",
       " ['47', '0', '0', '20170107213329593'],\n",
       " ['2', '0', '2', '20161219161204614'],\n",
       " ['1', '0', '0', '20170109191725028'],\n",
       " ['3', '1', '0', '20170109193452700'],\n",
       " ['10', '0', '0', '20170110224757882'],\n",
       " ['31', '1', '0', '20170103182528433'],\n",
       " ['75', '1', '0', '20170110141709735'],\n",
       " ['38', '1', '0', '20170103163517069'],\n",
       " ['39', '1', '0', '20170104171537233'],\n",
       " ['62', '0', '0', '20170111205342810'],\n",
       " ['10', '0', '0', '20170110225557604'],\n",
       " ['30', '0', '0', '20170109015231305'],\n",
       " ['38', '1', '3', '20170105003415085'],\n",
       " ['76', '1', '0', '20170110180413588'],\n",
       " ['1', '0', '2', '20170110213009014'],\n",
       " ['1', '1', '0', '20170109193455503'],\n",
       " ['1', '0', '2', '20161219202542596'],\n",
       " ['6', '1', '4', '20161223232203348'],\n",
       " ['40', '1', '0', '20170105164202500'],\n",
       " ['24', '1', '3', '20170104231931545'],\n",
       " ['1', '0', '3', '20161220220508802'],\n",
       " ['1', '1', '2', '20161219142012569'],\n",
       " ['85', '0', '1', '20170111210314652'],\n",
       " ['37', '1', '3', '20170109132551978'],\n",
       " ['60', '0', '0', '20170104185553854'],\n",
       " ['76', '1', '0', '20170110140935777'],\n",
       " ['56', '1', '0', '20170110122655288'],\n",
       " ['26', '0', '4', '20170103224832945'],\n",
       " ['14', '0', '0', '20170110224441502'],\n",
       " ['30', '1', '3', '20170104232927250'],\n",
       " ['36', '0', '1', '20170104172819875'],\n",
       " ['52', '1', '0', '20170110141236056'],\n",
       " ['5', '0', '3', '20161220223303987'],\n",
       " ['74', '1', '2', '20170105174904109'],\n",
       " ['15', '0', '2', '20161219193832243'],\n",
       " ['5', '1', '2', '20161219153909236'],\n",
       " ['1', '0', '2', '20161219202752764'],\n",
       " ['54', '1', '3', '20170109141510546'],\n",
       " ['35', '0', '0', '20170105172523741'],\n",
       " ['37', '0', '3', '20170104204445187'],\n",
       " ['1', '1', '2', '20161219195252187'],\n",
       " ['54', '0', '3', '20170105173505798'],\n",
       " ['27', '1', '4', '20170103230450385'],\n",
       " ['1', '0', '4', '20161221192855037'],\n",
       " ['68', '1', '0', '20170110140321752'],\n",
       " ['8', '1', '2', '20161219190656899'],\n",
       " ['22', '0', '4', '20161221200222680'],\n",
       " ['31', '0', '2', '20170112003835278'],\n",
       " ['47', '0', '4', '20170103234841372'],\n",
       " ['65', '0', '0', '20170104185405486'],\n",
       " ['49', '1', '0', '20170109220421978'],\n",
       " ['4', '0', '2', '20161219162919806'],\n",
       " ['68', '1', '0', '20170110175311202'],\n",
       " ['9', '0', '0', '20170110220623658'],\n",
       " ['10', '1', '1', '20170110225155603'],\n",
       " ['22', '0', '2', '20170104021348142'],\n",
       " ['92', '1', '0', '20170110133307879'],\n",
       " ['9', '0', '0', '20170110220130810'],\n",
       " ['60', '1', '0', '20170110122826993'],\n",
       " ['4', '0', '4', '20161221202651241'],\n",
       " ['47', '0', '0', '20170104210614252'],\n",
       " ['11', '0', '0', '20170103200509559'],\n",
       " ['8', '0', '0', '20170110225017437'],\n",
       " ['28', '1', '0', '20170104181551957'],\n",
       " ['28', '1', '0', '20170104165123368'],\n",
       " ['4', '1', '0', '20170109192357612'],\n",
       " ['1', '1', '4', '20170109194502921'],\n",
       " ['13', '0', '0', '20170110224745977'],\n",
       " ['16', '0', '0', '20170110231918993'],\n",
       " ['15', '0', '3', '20170110225627090'],\n",
       " ['30', '1', '4', '20170103183855083'],\n",
       " ['3', '1', '0', '20161219154514612'],\n",
       " ['53', '0', '0', '20170109012810348'],\n",
       " ['57', '1', '0', '20170109134356713'],\n",
       " ['60', '0', '0', '20170104212556604'],\n",
       " ['60', '1', '0', '20170110183850108'],\n",
       " ['1', '0', '2', '20161219222609775'],\n",
       " ['33', '0', '0', '20170105165208905'],\n",
       " ['20', '0', '0', '20170104020603909'],\n",
       " ['1', '1', '0', '20170109193014933'],\n",
       " ['6', '0', '0', '20170110213109002'],\n",
       " ['17', '0', '0', '20170104230556561'],\n",
       " ['10', '0', '0', '20170110225537307'],\n",
       " ['32', '1', '4', '20170103180839999'],\n",
       " ['28', '0', '4', '20170105163451675'],\n",
       " ['54', '0', '4', '20170104212703396'],\n",
       " ['66', '1', '0', '20170110141430168'],\n",
       " ['12', '1', '0', '20170109213526011'],\n",
       " ['30', '1', '0', '20170105165034356'],\n",
       " ['73', '1', '0', '20170110125254674'],\n",
       " ['51', '0', '0', '20170104211553436'],\n",
       " ['17', '1', '0', '20170109214200825'],\n",
       " ['1', '0', '0', '20170110213223460'],\n",
       " ['53', '1', '0', '20170109220402884'],\n",
       " ['40', '0', '0', '20170105172925445'],\n",
       " ['14', '1', '2', '20170103200931103'],\n",
       " ['58', '0', '0', '20170109013804774'],\n",
       " ['22', '1', '3', '20170104231710175'],\n",
       " ['78', '0', '0', '20170111222508641'],\n",
       " ['22', '1', '2', '20170108224643996'],\n",
       " ['23', '1', '4', '20170103212744381'],\n",
       " ['8', '1', '0', '20170109202802966'],\n",
       " ['65', '0', '0', '20170104213523774'],\n",
       " ['55', '1', '2', '20161219153926437'],\n",
       " ['66', '1', '0', '20170110153031033'],\n",
       " ['1', '0', '2', '20161219222527222'],\n",
       " ['38', '1', '0', '20170103163147600'],\n",
       " ['17', '0', '0', '20170110231210547'],\n",
       " ['22', '1', '3', '20170104222220913'],\n",
       " ['28', '1', '1', '20170103225945785'],\n",
       " ['65', '1', '0', '20170110140958665'],\n",
       " ['58', '0', '0', '20170104185324437'],\n",
       " ['51', '1', '3', '20170109132350438'],\n",
       " ['36', '1', '0', '20170109003400403'],\n",
       " ['14', '0', '0', '20170103201123159'],\n",
       " ['61', '0', '0', '20170104170114128'],\n",
       " ['15', '1', '0', '20170109214523308'],\n",
       " ['67', '1', '0', '20170110152820302'],\n",
       " ['1', '1', '0', '20170109193022683'],\n",
       " ['32', '1', '0', '20170105162332267'],\n",
       " ['1', '0', '0', '20170110212624891'],\n",
       " ['5', '0', '2', '20170103210403442'],\n",
       " ['9', '0', '0', '20170110220449969'],\n",
       " ['1', '1', '2', '20161219193510436'],\n",
       " ['16', '0', '0', '20170110231726179'],\n",
       " ['22', '1', '3', '20170104222152991'],\n",
       " ['80', '0', '0', '20170111211628015'],\n",
       " ['12', '0', '0', '20170110225553717'],\n",
       " ['76', '0', '2', '20170105174433781'],\n",
       " ['18', '1', '0', '20170103175433456'],\n",
       " ['1', '0', '0', '20170110213326577'],\n",
       " ['65', '0', '0', '20170111201953344'],\n",
       " ['67', '1', '0', '20170110131843433'],\n",
       " ['3', '1', '0', '20161219204602748'],\n",
       " ['32', '1', '3', '20170109141349200'],\n",
       " ['3', '0', '2', '20161219141725457'],\n",
       " ['50', '1', '0', '20170109012257664'],\n",
       " ['66', '1', '0', '20170110140952713'],\n",
       " ['57', '1', '0', '20170110160643579'],\n",
       " ['8', '1', '0', '20170109203407112'],\n",
       " ['4', '0', '3', '20161220222705570'],\n",
       " ['35', '1', '0', '20170103182732026'],\n",
       " ['52', '1', '0', '20170110153002630'],\n",
       " ['1', '0', '1', '20170110213111809'],\n",
       " ['2', '1', '3', '20161219224614064'],\n",
       " ['1', '0', '2', '20161219162852759'],\n",
       " ['53', '1', '0', '20170110140721731'],\n",
       " ['4', '0', '2', '20161219195053667'],\n",
       " ['2', '0', '3', '20161220220702081'],\n",
       " ['21', '0', '3', '20161220221819298'],\n",
       " ['31', '0', '0', '20170108230119324'],\n",
       " ['1', '0', '2', '20161219190003947'],\n",
       " ['2', '1', '3', '20161219225740952'],\n",
       " ['14', '0', '0', '20170104011738192'],\n",
       " ['38', '0', '0', '20170104205607908'],\n",
       " ['85', '0', '0', '20170111210408610'],\n",
       " ['32', '1', '0', '20170103182605514'],\n",
       " ['38', '0', '0', '20170105172811910'],\n",
       " ['23', '1', '3', '20170104222321688'],\n",
       " ['36', '1', '0', '20170108230047374'],\n",
       " ['10', '0', '0', '20170104013211746'],\n",
       " ['56', '1', '2', '20170107213838566'],\n",
       " ['1', '0', '0', '20170103210548852'],\n",
       " ['1', '0', '1', '20170110213647161'],\n",
       " ['1', '0', '2', '20161219142409225'],\n",
       " ['5', '1', '3', '20161220145130080'],\n",
       " ['51', '0', '0', '20170111171747345'],\n",
       " ['28', '0', '4', '20170103235814852'],\n",
       " ['29', '1', '0', '20170103181717184'],\n",
       " ['28', '1', '0', '20170104183435637'],\n",
       " ['42', '0', '4', '20170104202440690'],\n",
       " ['56', '1', '0', '20170110141043329'],\n",
       " ['56', '1', '0', '20170110132132356'],\n",
       " ['38', '1', '0', '20170111182452859'],\n",
       " ['6', '1', '0', '20170109201852729'],\n",
       " ['10', '1', '0', '20170109203357787'],\n",
       " ['1', '1', '2', '20161221192810669'],\n",
       " ['1', '0', '4', '20161221193041157'],\n",
       " ['1', '0', '3', '20161220222642427'],\n",
       " ['1', '0', '0', '20170110213015629'],\n",
       " ['41', '0', '0', '20170104173044203'],\n",
       " ['64', '0', '0', '20170111204901624'],\n",
       " ['26', '0', '0', '20170105163435235'],\n",
       " ['6', '1', '0', '20170109204828030'],\n",
       " ['49', '0', '0', '20170104213117085'],\n",
       " ['71', '0', '0', '20170111222535839'],\n",
       " ['54', '1', '0', '20170103183759282'],\n",
       " ['25', '0', '3', '20170104214558568'],\n",
       " ['1', '1', '2', '20170109193844660'],\n",
       " ['6', '1', '0', '20170109194207894'],\n",
       " ['20', '1', '3', '20170105000847091'],\n",
       " ['18', '0', '4', '20170103234736836'],\n",
       " ['58', '0', '0', '20170104213007932'],\n",
       " ['1', '1', '3', '20161220145435951'],\n",
       " ['1', '1', '2', '20161219195732971'],\n",
       " ['58', '1', '0', '20170110152944615'],\n",
       " ['2', '0', '3', '20161220143058738'],\n",
       " ['42', '1', '0', '20170109012301228'],\n",
       " ['16', '0', '0', '20170110231707270'],\n",
       " ['1', '0', '2', '20161219162719255'],\n",
       " ['2', '1', '2', '20161219161900526'],\n",
       " ['43', '0', '0', '20170103183348314'],\n",
       " ['16', '0', '0', '20170110232450588'],\n",
       " ['1', '1', '0', '20170109191027883'],\n",
       " ['4', '0', '3', '20161220220934786'],\n",
       " ['20', '1', '0', '20170109214040024'],\n",
       " ['54', '0', '0', '20170104002216792'],\n",
       " ['2', '0', '4', '20170103210801579'],\n",
       " ['18', '1', '0', '20170109213933756'],\n",
       " ['2', '1', '2', '20161219152918020'],\n",
       " ['26', '1', '2', '20161219204400164'],\n",
       " ['59', '0', '0', '20170104210317787'],\n",
       " ['55', '1', '0', '20170110160643547'],\n",
       " ['54', '0', '0', '20170111201637797'],\n",
       " ['4', '0', '0', '20170110213526716'],\n",
       " ['8', '1', '0', '20170109202926726'],\n",
       " ['26', '1', '4', '20161221193707668'],\n",
       " ['43', '0', '0', '20170111181750399'],\n",
       " ['1', '0', '2', '20161219153055452'],\n",
       " ['28', '1', '3', '20170104223603809'],\n",
       " ['66', '1', '0', '20170110140711170'],\n",
       " ['18', '0', '4', '20170103201305015'],\n",
       " ['78', '0', '0', '20170111210105923'],\n",
       " ['1', '1', '0', '20161219212433510'],\n",
       " ['30', '1', '3', '20170104223318647'],\n",
       " ['1', '1', '0', '20170109191225850'],\n",
       " ['7', '0', '1', '20170110223522905'],\n",
       " ['59', '0', '0', '20170111205304095'],\n",
       " ['13', '1', '0', '20170110220422857'],\n",
       " ['4', '1', '0', '20170109204913999'],\n",
       " ['69', '1', '0', '20170110141308465'],\n",
       " ['53', '0', '0', '20170111201629101'],\n",
       " ['62', '0', '3', '20170104212109387'],\n",
       " ['25', '0', '0', '20170102233320979'],\n",
       " ['39', '1', '0', '20170105000920922'],\n",
       " ['29', '0', '0', '20170104205704132'],\n",
       " ['12', '1', '3', '20170104223643593'],\n",
       " ['18', '1', '0', '20170109213931089'],\n",
       " ['4', '1', '0', '20170109191155398'],\n",
       " ['4', '1', '0', '20170109193102653'],\n",
       " ['29', '1', '0', '20170103182700482'],\n",
       " ['1', '0', '2', '20161219162649582'],\n",
       " ['17', '0', '3', '20170104225736449'],\n",
       " ['26', '0', '0', '20170104194358449'],\n",
       " ['62', '1', '3', '20170109132000815'],\n",
       " ['7', '0', '0', '20170110215633251'],\n",
       " ['1', '1', '3', '20161220143204424'],\n",
       " ['15', '1', '2', '20170104013425867'],\n",
       " ['2', '1', '2', '20161219151414451'],\n",
       " ['35', '1', '3', '20170104232853676'],\n",
       " ['35', '1', '0', '20170103181546899'],\n",
       " ['5', '1', '0', '20170109191338616'],\n",
       " ['3', '1', '0', '20170109190802410'],\n",
       " ['25', '0', '3', '20170104220223342'],\n",
       " ['35', '0', '4', '20170104201734834'],\n",
       " ['22', '1', '3', '20161220221656537'],\n",
       " ['11', '1', '0', '20170109204927071'],\n",
       " ['5', '1', '3', '20161220145018152'],\n",
       " ['26', '1', '2', '20170103184117683'],\n",
       " ['7', '1', '3', '20161220222849971'],\n",
       " ['12', '0', '4', '20170103205745050'],\n",
       " ['44', '1', '0', '20170108225950714'],\n",
       " ['71', '0', '0', '20170111204446510'],\n",
       " ['53', '1', '0', '20170110123801468'],\n",
       " ['63', '0', '0', '20170111171747601'],\n",
       " ['25', '1', '0', '20170103180606727'],\n",
       " ['10', '1', '0', '20170109204338404'],\n",
       " ['11', '0', '0', '20170110220518578'],\n",
       " ['58', '1', '0', '20170109150657263'],\n",
       " ['50', '0', '0', '20170104210147596'],\n",
       " ['27', '1', '2', '20170105161505810'],\n",
       " ['24', '0', '0', '20170104004125063'],\n",
       " ['75', '0', '0', '20170111202232554'],\n",
       " ['52', '0', '1', '20170111200619762'],\n",
       " ['29', '1', '4', '20170103230245713'],\n",
       " ['9', '0', '0', '20170110220151722'],\n",
       " ['3', '0', '1', '20170110213803097'],\n",
       " ['71', '0', '0', '20170111210043449'],\n",
       " ['24', '1', '2', '20170104021300885'],\n",
       " ['35', '1', '0', '20170104181325301'],\n",
       " ['65', '1', '0', '20170110182002744'],\n",
       " ['1', '0', '3', '20161220222711441'],\n",
       " ['11', '0', '0', '20170110225435539'],\n",
       " ['26', '0', '3', '20170104230427081'],\n",
       " ['30', '1', '3', '20170109134035009'],\n",
       " ['1', '0', '0', '20170109193052283'],\n",
       " ['10', '0', '4', '20170103212521420'],\n",
       " ['10', '0', '0', '20170110225414790'],\n",
       " ['55', '0', '0', '20170111201201679'],\n",
       " ['32', '1', '2', '20170104023251558'],\n",
       " ['27', '0', '1', '20170104181441861'],\n",
       " ['1', '0', '2', '20161219153127196'],\n",
       " ['32', '0', '4', '20170104204203947'],\n",
       " ['37', '0', '0', '20170109003623296'],\n",
       " ['90', '1', '0', '20170110182536477'],\n",
       " ['50', '1', '0', '20170109012542626'],\n",
       " ['1', '0', '4', '20170103210812538'],\n",
       " ['1', '0', '3', '20161219230533840'],\n",
       " ['1', '0', '4', '20161221193604223'],\n",
       " ['29', '0', '4', '20170104200952009'],\n",
       " ['20', '1', '4', '20170103233649970'],\n",
       " ['59', '1', '0', '20170110141538799'],\n",
       " ['49', '1', '3', '20170104231642491'],\n",
       " ['56', '0', '0', '20170104210554380'],\n",
       " ['3', '1', '2', '20161219151111483'],\n",
       " ['2', '1', '2', '20161219222054159'],\n",
       " ['27', '1', '4', '20170103181806561'],\n",
       " ['60', '1', '0', '20170110141612400'],\n",
       " ['90', '0', '3', '20170111210252274'],\n",
       " ['6', '1', '4', '20170103213155772'],\n",
       " ['3', '1', '2', '20161219140959953'],\n",
       " ['58', '1', '0', '20170109142427954'],\n",
       " ['39', '1', '0', '20170105164247586'],\n",
       " ['87', '0', '0', '20170110183538244'],\n",
       " ['1', '0', '2', '20161219201523620'],\n",
       " ['49', '0', '0', '20170104185843894'],\n",
       " ['33', '0', '0', '20170104165103473'],\n",
       " ['8', '1', '0', '20170109201654441'],\n",
       " ['96', '1', '0', '20170110161321170'],\n",
       " ['32', '0', '0', '20170104202239802'],\n",
       " ['21', '1', '3', '20170104232011770'],\n",
       " ['50', '1', '0', '20170110154654768'],\n",
       " ['31', '0', '0', '20170104165835728'],\n",
       " ['1', '1', '2', '20161219200456451'],\n",
       " ['1', '0', '3', '20161220220040611'],\n",
       " ['1', '0', '2', '20161219212535950'],\n",
       " ['59', '1', '0', '20170110131916835'],\n",
       " ['51', '0', '0', '20170109012545153'],\n",
       " ['26', '1', '0', '20170105163250483'],\n",
       " ['70', '1', '0', '20170110143426723'],\n",
       " ['8', '1', '3', '20161220220229729'],\n",
       " ['36', '0', '0', '20170105171802956'],\n",
       " ['50', '0', '0', '20170104181517653'],\n",
       " ['27', '0', '0', '20170103182440137'],\n",
       " ['27', '1', '3', '20170104231620409'],\n",
       " ['24', '1', '3', '20170104222339654'],\n",
       " ['90', '0', '2', '20170111223901221'],\n",
       " ['37', '0', '4', '20170104201910626'],\n",
       " ['19', '0', '3', '20170104225836561'],\n",
       " ['80', '0', '0', '20170111211335909'],\n",
       " ['14', '0', '0', '20170110224516539'],\n",
       " ['70', '0', '0', '20170104213651117'],\n",
       " ['10', '1', '4', '20170103200950879'],\n",
       " ['2', '1', '3', '20161219230741625'],\n",
       " ['20', '0', '0', '20170105161704786'],\n",
       " ['1', '1', '2', '20161219153514108'],\n",
       " ['54', '1', '0', '20170110124144003'],\n",
       " ['59', '1', '0', '20170110160643688'],\n",
       " ['42', '1', '0', '20170103182957410'],\n",
       " ['25', '1', '3', '20170104232101034'],\n",
       " ['4', '0', '3', '20161220220741730'],\n",
       " ['1', '1', '2', '20161219155627605'],\n",
       " ['73', '0', '0', '20170111221751463'],\n",
       " ['68', '1', '0', '20170110132430273'],\n",
       " ['52', '0', '0', '20170104212331895'],\n",
       " ['1', '0', '2', '20161219213454832'],\n",
       " ['22', '0', '0', '20170104225920241'],\n",
       " ['73', '1', '0', '20170110122517886'],\n",
       " ['37', '1', '0', '20170104181525205'],\n",
       " ['2', '1', '2', '20161219211617551'],\n",
       " ['27', '0', '2', '20170105163325547'],\n",
       " ['38', '1', '2', '20170109140654630'],\n",
       " ['52', '0', '0', '20170104212221772'],\n",
       " ['17', '1', '0', '20170104005759343'],\n",
       " ['24', '1', '3', '20170104232305465'],\n",
       " ['11', '1', '0', '20170109203422194'],\n",
       " ['37', '0', '0', '20170109001555863'],\n",
       " ['24', '0', '2', '20170104020102786'],\n",
       " ['25', '1', '3', '20170104222513085'],\n",
       " ['20', '1', '1', '20170105002448621'],\n",
       " ['32', '1', '2', '20170103183806483'],\n",
       " ['9', '0', '2', '20170110224822473'],\n",
       " ['26', '1', '3', '20170104222600591'],\n",
       " ['35', '1', '0', '20170104171631209'],\n",
       " ['2', '1', '3', '20161219225333464'],\n",
       " ['10', '0', '0', '20170110225421531'],\n",
       " ['40', '0', '0', '20170104165249089'],\n",
       " ['41', '0', '0', '20170104200612385'],\n",
       " ['1', '0', '0', '20170110213511942'],\n",
       " ['85', '1', '0', '20170110181049060'],\n",
       " ['70', '0', '0', '20170111200757701'],\n",
       " ['67', '0', '0', '20170104200734185'],\n",
       " ['62', '0', '0', '20170111211200517'],\n",
       " ['32', '0', '3', '20170104230706290'],\n",
       " ['23', '1', '4', '20161223230008236'],\n",
       " ['3', '1', '3', '20161219230125137'],\n",
       " ['5', '1', '2', '20161219160858341'],\n",
       " ['8', '1', '0', '20170109205028805'],\n",
       " ['10', '1', '4', '20161223225854867'],\n",
       " ['75', '1', '0', '20170110182959300'],\n",
       " ['21', '0', '0', '20170110232137372'],\n",
       " ['9', '0', '0', '20170110220406314'],\n",
       " ['75', '1', '0', '20170110183657201'],\n",
       " ['53', '0', '0', '20170111201131358'],\n",
       " ['22', '1', '0', '20170103163248351'],\n",
       " ['60', '0', '0', '20170111171747549'],\n",
       " ['51', '0', '0', '20170109011802151'],\n",
       " ['7', '1', '0', '20170109194702900'],\n",
       " ['5', '1', '4', '20161221201710702'],\n",
       " ['1', '0', '4', '20161221195827599'],\n",
       " ['1', '1', '2', '20161219222703503'],\n",
       " ['27', '1', '0', '20170105000743720'],\n",
       " ['56', '0', '0', '20170105173129526'],\n",
       " ['1', '1', '0', '20170109193017247'],\n",
       " ['37', '1', '0', '20170103183016626'],\n",
       " ['39', '0', '0', '20170104210107057'],\n",
       " ['58', '0', '1', '20170111170138036'],\n",
       " ['2', '1', '0', '20170109194054994'],\n",
       " ['38', '0', '1', '20170105183954127'],\n",
       " ['17', '0', '0', '20170104011408904'],\n",
       " ['37', '1', '0', '20170103182837146'],\n",
       " ['26', '0', '4', '20170103235404028'],\n",
       " ['32', '1', '2', '20170109141403511'],\n",
       " ['41', '1', '0', '20170104170026513'],\n",
       " ['54', '0', '0', '20170104184100878'],\n",
       " ['16', '1', '0', '20170104013530988'],\n",
       " ['1', '0', '2', '20161219204409620'],\n",
       " ['45', '0', '0', '20170104184307637'],\n",
       " ['56', '0', '2', '20170105164626292'],\n",
       " ['9', '0', '2', '20170110220429818'],\n",
       " ['69', '1', '0', '20170110175803672'],\n",
       " ['72', '0', '0', '20170111210705162'],\n",
       " ['43', '0', '0', '20170111200147932'],\n",
       " ['22', '1', '3', '20170104232054915'],\n",
       " ['61', '0', '0', '20170104210224700'],\n",
       " ['4', '0', '2', '20161219194118187'],\n",
       " ['33', '1', '3', '20170104223525079'],\n",
       " ['62', '0', '0', '20170104184818725'],\n",
       " ['29', '1', '3', '20170104232640192'],\n",
       " ['32', '0', '0', '20170105164554548'],\n",
       " ['57', '0', '0', '20170111203532804'],\n",
       " ['26', '1', '3', '20170104235421282'],\n",
       " ['11', '1', '0', '20170109203327397'],\n",
       " ['1', '0', '0', '20170110205409644'],\n",
       " ['2', '0', '2', '20161219162403159'],\n",
       " ['30', '1', '2', '20170104020950540'],\n",
       " ['41', '1', '0', '20170103183924011'],\n",
       " ['27', '1', '2', '20170104020523491'],\n",
       " ['52', '0', '0', '20170104204156747'],\n",
       " ['26', '0', '3', '20170104214719799'],\n",
       " ['29', '1', '2', '20170105161656203'],\n",
       " ['25', '1', '2', '20170104015640427'],\n",
       " ['38', '1', '0', '20170105164238436'],\n",
       " ['21', '1', '0', '20170109213908912'],\n",
       " ['3', '1', '2', '20161219153312836'],\n",
       " ['2', '1', '0', '20161219154458917'],\n",
       " ['1', '0', '2', '20161219212502046'],\n",
       " ['37', '0', '3', '20170109141925516'],\n",
       " ['1', '0', '3', '20161219225410225'],\n",
       " ['14', '1', '0', '20170109214349442'],\n",
       " ['40', '0', '0', '20170104184142437'],\n",
       " ['9', '0', '0', '20170110224404052'],\n",
       " ['11', '0', '4', '20170103200621488'],\n",
       " ['10', '0', '0', '20170110225505288'],\n",
       " ['4', '1', '2', '20161219163346526'],\n",
       " ['49', '1', '0', '20170104184001972'],\n",
       " ['50', '1', '3', '20170109011047973'],\n",
       " ['53', '0', '0', '20170109012812390'],\n",
       " ['49', '1', '1', '20170110153320156'],\n",
       " ['26', '1', '0', '20170104235427939'],\n",
       " ['5', '0', '2', '20161219192745531'],\n",
       " ['85', '1', '0', '20170110183346968'],\n",
       " ['58', '0', '0', '20170104213136437'],\n",
       " ['2', '1', '2', '20161219215651168'],\n",
       " ['10', '0', '0', '20170110224524253'],\n",
       " ['37', '1', '2', '20170105172732733'],\n",
       " ['15', '0', '0', '20170110232730918'],\n",
       " ['1', '0', '2', '20170109191125532'],\n",
       " ['1', '1', '0', '20170109193407724'],\n",
       " ['69', '1', '0', '20170110132156065'],\n",
       " ['49', '0', '3', '20170109011146753'],\n",
       " ['63', '1', '0', '20170109221021608'],\n",
       " ['79', '1', '0', '20170110141543912'],\n",
       " ['1', '1', '3', '20161220220126609'],\n",
       " ['53', '0', '0', '20170104212139332'],\n",
       " ['19', '1', '0', '20170105184107718'],\n",
       " ['8', '1', '3', '20161220220407073'],\n",
       " ['33', '0', '4', '20170104172529099'],\n",
       " ['7', '1', '1', '20170109201647377'],\n",
       " ['2', '0', '0', '20170110213639642'],\n",
       " ['28', '1', '3', '20170109140238810'],\n",
       " ['1', '1', '4', '20161221201921929'],\n",
       " ['62', '0', '0', '20170111171747588'],\n",
       " ['32', '1', '4', '20170103230259201'],\n",
       " ['1', '1', '0', '20170103213335661'],\n",
       " ['56', '1', '0', '20170104212444956'],\n",
       " ['53', '1', '2', '20170105174705949'],\n",
       " ['27', '0', '3', '20170104214210099'],\n",
       " ['24', '0', '3', '20161220222335651'],\n",
       " ['31', '1', '2', '20170105161436755'],\n",
       " ['13', '1', '0', '20170109204117086'],\n",
       " ['46', '0', '0', '20170104211749300'],\n",
       " ['15', '1', '0', '20170109214447621'],\n",
       " ['32', '1', '3', '20170109141308065'],\n",
       " ['2', '1', '2', '20161219221929879'],\n",
       " ['26', '0', '4', '20170103235233157'],\n",
       " ['31', '1', '4', '20170103230330201'],\n",
       " ['82', '0', '0', '20170111223913094'],\n",
       " ['5', '0', '0', '20170110215956675'],\n",
       " ['9', '0', '0', '20170110220510618'],\n",
       " ['65', '0', '0', '20170104185810566'],\n",
       " ['57', '1', '0', '20170109015631419'],\n",
       " ['12', '1', '0', '20170109203700059'],\n",
       " ['15', '1', '4', '20170103233348795'],\n",
       " ['29', '0', '3', '20170104230635409'],\n",
       " ['47', '1', '3', '20170109133358794'],\n",
       " ['31', '1', '0', '20170104181343268'],\n",
       " ['11', '1', '0', '20170109205438571'],\n",
       " ['28', '1', '2', '20170104023041166'],\n",
       " ['26', '1', '3', '20161220222108978'],\n",
       " ['2', '1', '3', '20161220144846231'],\n",
       " ['61', '0', '3', '20170109131758363'],\n",
       " ['10', '0', '4', '20170103200443015'],\n",
       " ['1', '0', '2', '20161219222752047'],\n",
       " ['66', '1', '1', '20170110153026621'],\n",
       " ['46', '1', '4', '20170105170029053'],\n",
       " ['85', '1', '3', '20170110183438488'],\n",
       " ['61', '1', '0', '20170110122324992'],\n",
       " ['35', '1', '0', '20170104181321972'],\n",
       " ['28', '1', '0', '20170105162423130'],\n",
       " ['14', '1', '0', '20170109214428765'],\n",
       " ['67', '1', '0', '20170110180054361'],\n",
       " ['1', '1', '3', '20161219225515600'],\n",
       " ['63', '0', '0', '20170109012604793'],\n",
       " ['34', '0', '4', '20170105172322132'],\n",
       " ['1', '0', '2', '20161219155655085'],\n",
       " ['86', '1', '0', '20170109150945088'],\n",
       " ['1', '1', '4', '20161221195449497'],\n",
       " ['51', '1', '0', '20170110154639018'],\n",
       " ['39', '0', '4', '20170104183739429'],\n",
       " ['37', '0', '0', '20170109004257626'],\n",
       " ['47', '1', '0', '20170104235823851'],\n",
       " ['39', '1', '0', '20170105172852709'],\n",
       " ['52', '0', '0', '20170104210519108'],\n",
       " ['54', '1', '0', '20170104235918548'],\n",
       " ['18', '1', '0', '20170109214554528'],\n",
       " ['24', '1', '0', '20170103180557248'],\n",
       " ['37', '1', '3', '20170104235312145'],\n",
       " ['18', '1', '0', '20170109214725387'],\n",
       " ['55', '0', '0', '20170111195247744'],\n",
       " ['1', '1', '4', '20170109193346573'],\n",
       " ['38', '1', '0', '20170103183214380'],\n",
       " ['2', '0', '0', '20170110212905173'],\n",
       " ['50', '1', '2', '20170104235513244'],\n",
       " ['14', '0', '0', '20170110224445654'],\n",
       " ['3', '1', '3', '20161220220625842'],\n",
       " ['13', '1', '4', '20170103200733438'],\n",
       " ['39', '1', '3', '20170104235351986'],\n",
       " ['1', '0', '2', '20161219162431598'],\n",
       " ['49', '0', '4', '20170104205251139'],\n",
       " ['15', '0', '0', '20170104225947233'],\n",
       " ['51', '1', '0', '20170110123530286'],\n",
       " ['22', '0', '4', '20170103224931632'],\n",
       " ['85', '1', '0', '20170110181953748'],\n",
       " ['80', '1', '0', '20170110181333958'],\n",
       " ['1', '0', '2', '20161219204151442'],\n",
       " ['62', '1', '0', '20170109142055018'],\n",
       " ['31', '1', '0', '20170109132941538'],\n",
       " ['53', '0', '0', '20170111195238954'],\n",
       " ['49', '1', '0', '20170111182452933'],\n",
       " ['6', '0', '3', '20161220145323231'],\n",
       " ['56', '1', '1', '20170110143501684'],\n",
       " ['44', '1', '0', '20170104211529444'],\n",
       " ['76', '1', '3', '20170110181654947'],\n",
       " ['5', '1', '0', '20170109193951363'],\n",
       " ['2', '0', '2', '20161219141647272'],\n",
       " ['52', '0', '0', '20170111194922232'],\n",
       " ['2', '1', '4', '20161221192849749'],\n",
       " ['45', '1', '0', '20170110151448578'],\n",
       " ['39', '0', '0', '20170104201949978'],\n",
       " ['1', '1', '3', '20161220221808354'],\n",
       " ['6', '1', '4', '20161221193229605'],\n",
       " ['24', '1', '0', '20170103180642496'],\n",
       " ['4', '0', '0', '20170109191458548'],\n",
       " ['46', '0', '0', '20170109015549957'],\n",
       " ['3', '0', '0', '20170110212732926'],\n",
       " ['2', '1', '4', '20170103212103556'],\n",
       " ['60', '0', '0', '20170104184751214'],\n",
       " ['24', '0', '0', '20170104002326444'],\n",
       " ['8', '1', '0', '20170109205258890'],\n",
       " ['18', '1', '3', '20170104221920967'],\n",
       " ['50', '1', '0', '20170104184846062'],\n",
       " ['24', '0', '4', '20170103234945243'],\n",
       " ['15', '0', '0', '20170110232610061'],\n",
       " ['15', '1', '0', '20170109214307598'],\n",
       " ['12', '1', '3', '20170104223448631'],\n",
       " ['14', '0', '4', '20170103201105568'],\n",
       " ['9', '1', '2', '20161219190524395'],\n",
       " ['75', '1', '0', '20170110181540242'],\n",
       " ['50', '0', '0', '20170109011120677'],\n",
       " ['42', '0', '0', '20170105161358787'],\n",
       " ['80', '1', '0', '20170110131703927'],\n",
       " ['1', '0', '3', '20161219225633088'],\n",
       " ['7', '0', '4', '20161221201748793'],\n",
       " ['69', '1', '0', '20170109150615726'],\n",
       " ['1', '0', '2', '20161219162518471'],\n",
       " ['35', '1', '3', '20170109140914004'],\n",
       " ['72', '1', '0', '20170110180409214'],\n",
       " ['48', '1', '0', '20170105000634011'],\n",
       " ['62', '1', '0', '20170104183415429'],\n",
       " ['45', '0', '2', '20170109013208873'],\n",
       " ['3', '0', '1', '20170110213659314'],\n",
       " ['26', '1', '4', '20170103214211386'],\n",
       " ['52', '0', '3', '20170104202143258'],\n",
       " ['56', '0', '0', '20170111201127150'],\n",
       " ['59', '0', '0', '20170111203716454'],\n",
       " ['48', '0', '0', '20170104184236333'],\n",
       " ['62', '1', '0', '20170110143413907'],\n",
       " ['6', '1', '0', '20170109201721681'],\n",
       " ['22', '0', '0', '20170104002331117'],\n",
       " ['51', '0', '4', '20170104193634471'],\n",
       " ['13', '1', '0', '20170109204128684'],\n",
       " ['62', '0', '0', '20170111222711250'],\n",
       " ['8', '0', '0', '20170103210941483'],\n",
       " ['1', '1', '4', '20170103205129266'],\n",
       " ['35', '0', '0', '20170105161456219'],\n",
       " ['8', '1', '0', '20170109204516373'],\n",
       " ['5', '0', '3', '20161220142906249'],\n",
       " ['92', '1', '0', '20170110183501116'],\n",
       " ['11', '1', '0', '20170109205441860'],\n",
       " ['6', '1', '0', '20170109194210604'],\n",
       " ['27', '1', '2', '20170109132133665'],\n",
       " ['57', '1', '3', '20170104234912850'],\n",
       " ['90', '0', '1', '20170111205407457'],\n",
       " ['1', '0', '3', '20161219230132696'],\n",
       " ['31', '1', '1', '20170111204355636'],\n",
       " ['5', '1', '4', '20161221201952681'],\n",
       " ['13', '0', '0', '20170110225447389'],\n",
       " ['39', '1', '0', '20170109012839681'],\n",
       " ['1', '0', '2', '20161220144957407'],\n",
       " ['57', '1', '0', '20170105172541837'],\n",
       " ['68', '0', '2', '20170111205006920'],\n",
       " ['28', '0', '3', '20170104194548120'],\n",
       " ['50', '0', '0', '20170104211706898'],\n",
       " ['9', '1', '0', '20170109204754719'],\n",
       " ['16', '0', '0', '20170110231647118'],\n",
       " ['11', '0', '3', '20170104230222352'],\n",
       " ['62', '1', '0', '20170110160643813'],\n",
       " ['62', '0', '3', '20170104220837477'],\n",
       " ['4', '1', '3', '20161220221856138'],\n",
       " ['56', '0', '0', '20170111203922369'],\n",
       " ['55', '1', '0', '20170109012617704'],\n",
       " ['33', '0', '2', '20170109002851300'],\n",
       " ['29', '0', '0', '20170104184656046'],\n",
       " ['79', '0', '0', '20170111205953011'],\n",
       " ['48', '0', '3', '20170109141132255'],\n",
       " ['13', '1', '0', '20170109205119953'],\n",
       " ['53', '1', '0', '20170110144754148'],\n",
       " ['61', '0', '0', '20170105173654895'],\n",
       " ['9', '0', '0', '20170110225112927'],\n",
       " ['50', '1', '0', '20170110143350447'],\n",
       " ['23', '1', '1', '20170103223013127'],\n",
       " ['4', '0', '0', '20170110211454141'],\n",
       " ['11', '0', '0', '20170110224408700'],\n",
       " ['58', '0', '0', '20170111171747496'],\n",
       " ['32', '1', '0', '20170104165842857'],\n",
       " ['56', '1', '1', '20170110153339650'],\n",
       " ['1', '1', '4', '20161221201846817'],\n",
       " ['32', '1', '0', '20170105162521931'],\n",
       " ['37', '0', '0', '20170104205214549'],\n",
       " ['54', '0', '0', '20170104212507413'],\n",
       " ['56', '1', '0', '20170110122842545'],\n",
       " ['48', '1', '0', '20170110125249128'],\n",
       " ['53', '1', '0', '20170109221042561'],\n",
       " ['56', '1', '0', '20170110120821728'],\n",
       " ['1', '0', '0', '20170110205418587'],\n",
       " ['2', '1', '3', '20161220220209321'],\n",
       " ['75', '1', '1', '20170105003534605'],\n",
       " ['38', '0', '2', '20170109002407221'],\n",
       " ['1', '1', '4', '20161221202912889'],\n",
       " ['1', '1', '0', '20170109191447766'],\n",
       " ['8', '1', '0', '20170109204144358'],\n",
       " ['1', '0', '3', '20161220220116873'],\n",
       " ['18', '1', '0', '20170109212905543'],\n",
       " ['85', '0', '0', '20170111205823547'],\n",
       " ['56', '0', '2', '20170111202058310'],\n",
       " ['28', '1', '4', '20170103225950647'],\n",
       " ['3', '1', '3', '20161219225830840'],\n",
       " ['14', '0', '0', '20170110220704398'],\n",
       " ['18', '1', '0', '20170109213935367'],\n",
       " ['36', '1', '0', '20170105163244997'],\n",
       " ['18', '0', '0', '20170110223927225'],\n",
       " ['14', '1', '2', '20170104012048369'],\n",
       " ['1', '0', '0', '20161219154556757'],\n",
       " ['12', '1', '0', '20170109204206273'],\n",
       " ['8', '1', '4', '20161223232240516'],\n",
       " ['15', '0', '0', '20170110232515682'],\n",
       " ['61', '1', '0', '20170109150858084'],\n",
       " ['7', '0', '0', '20170110220439570'],\n",
       " ['1', '0', '3', '20161219225952240'],\n",
       " ['32', '0', '4', '20170104170633305'],\n",
       " ['58', '1', '0', '20170110132501568'],\n",
       " ['75', '1', '0', '20170110180500719'],\n",
       " ['31', '1', '0', '20170103182729649'],\n",
       " ['28', '1', '0', '20170103181241664'],\n",
       " ['24', '1', '0', '20170105183641479'],\n",
       " ['40', '0', '2', '20170104170505569'],\n",
       " ['9', '0', '0', '20170110220040107'],\n",
       " ['2', '1', '4', '20161221195137728'],\n",
       " ['17', '0', '0', '20170105183357879'],\n",
       " ['1', '0', '0', '20161219212409141'],\n",
       " ['4', '0', '2', '20170110225135002'],\n",
       " ['26', '1', '2', '20170104022829221'],\n",
       " ['26', '1', '0', '20170103181940954'],\n",
       " ['35', '1', '1', '20170109132740903'],\n",
       " ['15', '0', '0', '20170105183254311'],\n",
       " ['7', '1', '0', '20170109201632806'],\n",
       " ['2', '1', '3', '20161220144844310'],\n",
       " ['66', '1', '0', '20170110141120112'],\n",
       " ['28', '1', '1', '20170109132733613'],\n",
       " ['35', '0', '0', '20170108224654643'],\n",
       " ['70', '0', '0', '20170104185838254'],\n",
       " ['40', '0', '3', '20170104203137444'],\n",
       " ['1', '0', '2', '20161219155349310'],\n",
       " ['86', '1', '3', '20170105175650126'],\n",
       " ['1', '0', '3', '20161219224423280'],\n",
       " ['32', '1', '0', '20170109140418625'],\n",
       " ['59', '1', '0', '20170110123116580'],\n",
       " ['20', '1', '0', '20170103175525991'],\n",
       " ['86', '0', '2', '20170105174932870'],\n",
       " ['37', '0', '3', '20170109134008515'],\n",
       " ['26', '1', '3', '20170104234454339'],\n",
       " ['28', '1', '2', '20170104020633108'],\n",
       " ['56', '1', '0', '20170110141114577'],\n",
       " ['64', '1', '0', '20170110160643876'],\n",
       " ['1', '0', '2', '20161219204736996'],\n",
       " ['85', '0', '0', '20170111205839209'],\n",
       " ['80', '0', '0', '20170111221815342'],\n",
       " ['86', '1', '0', '20170110183800477'],\n",
       " ['15', '1', '0', '20170109204354264'],\n",
       " ['10', '1', '0', '20170109204244904'],\n",
       " ['41', '0', '0', '20170111181750384'],\n",
       " ['88', '1', '3', '20170110182157752'],\n",
       " ['65', '0', '0', '20170111202227430'],\n",
       " ['15', '1', '2', '20170104015856031'],\n",
       " ['1', '1', '2', '20161219141502337'],\n",
       " ['1', '1', '2', '20161219221229279'],\n",
       " ['47', '0', '4', '20170104002129509'],\n",
       " ['34', '1', '2', '20170104023010725'],\n",
       " ['43', '1', '0', '20170109010025945'],\n",
       " ['42', '0', '0', '20170104210426844'],\n",
       " ['49', '0', '4', '20170104210433927'],\n",
       " ['10', '1', '0', '20170110220649364'],\n",
       " ['1', '1', '3', '20161219225050632'],\n",
       " ['46', '0', '2', '20170104204450309'],\n",
       " ['35', '1', '0', '20170103181812617'],\n",
       " ['39', '1', '0', '20170105165044508'],\n",
       " ['65', '1', '3', '20170109141910621'],\n",
       " ['80', '0', '1', '20170111205621738'],\n",
       " ['1', '0', '2', '20161219153209772'],\n",
       " ['77', '1', '0', '20170110140643082'],\n",
       " ...]"
      ]
     },
     "execution_count": 115,
     "metadata": {},
     "output_type": "execute_result"
    }
   ],
   "source": [
    "filename_data"
   ]
  },
  {
   "cell_type": "code",
   "execution_count": 117,
   "metadata": {},
   "outputs": [],
   "source": [
    "dict_20 = {}\n",
    "dict_40 = {}\n",
    "dict_60 = {}\n",
    "dict_80 = {}\n",
    "dict_100 = {}\n",
    "dict_116 = {}\n",
    "for i in filename_data:\n",
    "    if int(i[0]) <= 20:\n",
    "        if int(i[1]) == 0:\n",
    "            if 'male' in dict_20:\n",
    "                dict_20['male'] +=1\n",
    "            else:\n",
    "                dict_20['male'] = 1\n",
    "        if int(i[1]) == 1:\n",
    "            if 'female' in dict_20:\n",
    "                dict_20['female'] +=1\n",
    "            else:\n",
    "                dict_20['female'] = 1\n",
    "        if int(i[2]) == 0:\n",
    "            if 'white' in dict_20:\n",
    "                dict_20['white'] +=1\n",
    "            else:\n",
    "                dict_20['white'] = 1\n",
    "        if int(i[2]) == 1:\n",
    "            if 'black' in dict_20:\n",
    "                dict_20['black'] +=1\n",
    "            else:\n",
    "                dict_20['black'] = 1\n",
    "        if int(i[2]) == 2:\n",
    "            if 'asian' in dict_20:\n",
    "                dict_20['asian'] +=1\n",
    "            else:\n",
    "                dict_20['asian'] = 1\n",
    "        if int(i[2]) == 3:\n",
    "            if 'indian' in dict_20:\n",
    "                dict_20['indian'] +=1\n",
    "            else:\n",
    "                dict_20['indian'] = 1\n",
    "        if int(i[2]) == 4:\n",
    "            if 'others' in dict_20:\n",
    "                dict_20['others'] +=1\n",
    "            else:\n",
    "                dict_20['others'] = 1\n",
    "    elif int(i[0]) > 20 and int(i[0]) <= 40:\n",
    "        if int(i[1]) == 0:\n",
    "            if 'male' in dict_40:\n",
    "                dict_40['male'] +=1\n",
    "            else:\n",
    "                dict_40['male'] = 1\n",
    "        if int(i[1]) == 1:\n",
    "            if 'female' in dict_40:\n",
    "                dict_40['female'] +=1\n",
    "            else:\n",
    "                dict_40['female'] = 1\n",
    "        if int(i[2]) == 0:\n",
    "            if 'white' in dict_40:\n",
    "                dict_40['white'] +=1\n",
    "            else:\n",
    "                dict_40['white'] = 1\n",
    "        if int(i[2]) == 1:\n",
    "            if 'black' in dict_40:\n",
    "                dict_40['black'] +=1\n",
    "            else:\n",
    "                dict_40['black'] = 1\n",
    "        if int(i[2]) == 2:\n",
    "            if 'asian' in dict_40:\n",
    "                dict_40['asian'] +=1\n",
    "            else:\n",
    "                dict_40['asian'] = 1\n",
    "        if int(i[2]) == 3:\n",
    "            if 'indian' in dict_40:\n",
    "                dict_40['indian'] +=1\n",
    "            else:\n",
    "                dict_40['indian'] = 1\n",
    "        if int(i[2]) == 4:\n",
    "            if 'others' in dict_40:\n",
    "                dict_40['others'] +=1\n",
    "            else:\n",
    "                dict_40['others'] = 1\n",
    "    elif int(i[0]) > 40 and int(i[0]) <=60:\n",
    "        if int(i[1]) == 0:\n",
    "            if 'male' in dict_60:\n",
    "                dict_60['male'] +=1\n",
    "            else:\n",
    "                dict_60['male'] = 1\n",
    "        if int(i[1]) == 1:\n",
    "            if 'female' in dict_60:\n",
    "                dict_60['female'] +=1\n",
    "            else:\n",
    "                dict_60['female'] = 1\n",
    "        if int(i[2]) == 0:\n",
    "            if 'white' in dict_60:\n",
    "                dict_60['white'] +=1\n",
    "            else:\n",
    "                dict_60['white'] = 1\n",
    "        if int(i[2]) == 1:\n",
    "            if 'black' in dict_60:\n",
    "                dict_60['black'] +=1\n",
    "            else:\n",
    "                dict_60['black'] = 1\n",
    "        if int(i[2]) == 2:\n",
    "            if 'asian' in dict_60:\n",
    "                dict_60['asian'] +=1\n",
    "            else:\n",
    "                dict_60['asian'] = 1\n",
    "        if int(i[2]) == 3:\n",
    "            if 'indian' in dict_60:\n",
    "                dict_60['indian'] +=1\n",
    "            else:\n",
    "                dict_60['indian'] = 1\n",
    "        if int(i[2]) == 4:\n",
    "            if 'others' in dict_60:\n",
    "                dict_60['others'] +=1\n",
    "            else:\n",
    "                dict_60['others'] = 1\n",
    "    elif int(i[0]) > 60 and int(i[0]) <= 80:\n",
    "        if int(i[1]) == 0:\n",
    "            if 'male' in dict_80:\n",
    "                dict_80['male'] +=1\n",
    "            else:\n",
    "                dict_80['male'] = 1\n",
    "        if int(i[1]) == 1:\n",
    "            if 'female' in dict_80:\n",
    "                dict_80['female'] +=1\n",
    "            else:\n",
    "                dict_80['female'] = 1\n",
    "        if int(i[2]) == 0:\n",
    "            if 'white' in dict_80:\n",
    "                dict_80['white'] +=1\n",
    "            else:\n",
    "                dict_80['white'] = 1\n",
    "        if int(i[2]) == 1:\n",
    "            if 'black' in dict_80:\n",
    "                dict_80['black'] +=1\n",
    "            else:\n",
    "                dict_80['black'] = 1\n",
    "        if int(i[2]) == 2:\n",
    "            if 'asian' in dict_80:\n",
    "                dict_80['asian'] +=1\n",
    "            else:\n",
    "                dict_80['asian'] = 1\n",
    "        if int(i[2]) == 3:\n",
    "            if 'indian' in dict_80:\n",
    "                dict_80['indian'] +=1\n",
    "            else:\n",
    "                dict_80['indian'] = 1\n",
    "        if int(i[2]) == 4:\n",
    "            if 'others' in dict_80:\n",
    "                dict_80['others'] +=1\n",
    "            else:\n",
    "                dict_80['others'] = 1\n",
    "    elif int(i[0]) > 80 and int(i[0]) <= 100:\n",
    "        if int(i[1]) == 0:\n",
    "            if 'male' in dict_100:\n",
    "                dict_100['male'] +=1\n",
    "            else:\n",
    "                dict_100['male'] = 1\n",
    "        if int(i[1]) == 1:\n",
    "            if 'female' in dict_100:\n",
    "                dict_100['female'] +=1\n",
    "            else:\n",
    "                dict_100['female'] = 1\n",
    "        if int(i[2]) == 0:\n",
    "            if 'white' in dict_100:\n",
    "                dict_100['white'] +=1\n",
    "            else:\n",
    "                dict_100['white'] = 1\n",
    "        if int(i[2]) == 1:\n",
    "            if 'black' in dict_100:\n",
    "                dict_100['black'] +=1\n",
    "            else:\n",
    "                dict_100['black'] = 1\n",
    "        if int(i[2]) == 2:\n",
    "            if 'asian' in dict_100:\n",
    "                dict_100['asian'] +=1\n",
    "            else:\n",
    "                dict_100['asian'] = 1\n",
    "        if int(i[2]) == 3:\n",
    "            if 'indian' in dict_100:\n",
    "                dict_100['indian'] +=1\n",
    "            else:\n",
    "                dict_100['indian'] = 1\n",
    "        if int(i[2]) == 4:\n",
    "            if 'others' in dict_100:\n",
    "                dict_100['others'] +=1\n",
    "            else:\n",
    "                dict_100['others'] = 1\n",
    "    else:\n",
    "        if int(i[1]) == 0:\n",
    "            if 'male' in dict_116:\n",
    "                dict_116['male'] +=1\n",
    "            else:\n",
    "                dict_116['male'] = 1\n",
    "        if int(i[1]) == 1:\n",
    "            if 'female' in dict_116:\n",
    "                dict_116['female'] +=1\n",
    "            else:\n",
    "                dict_116['female'] = 1\n",
    "        if int(i[2]) == 0:\n",
    "            if 'white' in dict_116:\n",
    "                dict_116['white'] +=1\n",
    "            else:\n",
    "                dict_116['white'] = 1\n",
    "        if int(i[2]) == 1:\n",
    "            if 'black' in dict_116:\n",
    "                dict_116['black'] +=1\n",
    "            else:\n",
    "                dict_116['black'] = 1\n",
    "        if int(i[2]) == 2:\n",
    "            if 'asian' in dict_116:\n",
    "                dict_116['asian'] +=1\n",
    "            else:\n",
    "                dict_116['asian'] = 1\n",
    "        if int(i[2]) == 3:\n",
    "            if 'indian' in dict_116:\n",
    "                dict_116['indian'] +=1\n",
    "            else:\n",
    "                dict_116['indian'] = 1\n",
    "        if int(i[2]) == 4:\n",
    "            if 'others' in dict_116:\n",
    "                dict_116['others'] +=1\n",
    "            else:\n",
    "                dict_116['others'] = 1                          "
   ]
  },
  {
   "cell_type": "code",
   "execution_count": 118,
   "metadata": {},
   "outputs": [
    {
     "data": {
      "text/plain": [
       "{'female': 2326,\n",
       " 'asian': 1017,\n",
       " 'male': 1941,\n",
       " 'white': 1931,\n",
       " 'indian': 607,\n",
       " 'black': 160,\n",
       " 'others': 552}"
      ]
     },
     "execution_count": 118,
     "metadata": {},
     "output_type": "execute_result"
    }
   ],
   "source": [
    "dict_20"
   ]
  },
  {
   "cell_type": "code",
   "execution_count": 119,
   "metadata": {},
   "outputs": [
    {
     "data": {
      "text/plain": [
       "{'female': 1632,\n",
       " 'black': 100,\n",
       " 'others': 452,\n",
       " 'male': 901,\n",
       " 'white': 1034,\n",
       " 'indian': 598,\n",
       " 'asian': 349}"
      ]
     },
     "execution_count": 119,
     "metadata": {},
     "output_type": "execute_result"
    }
   ],
   "source": [
    "dict_40"
   ]
  },
  {
   "cell_type": "code",
   "execution_count": 120,
   "metadata": {},
   "outputs": [
    {
     "data": {
      "text/plain": [
       "{'female': 751,\n",
       " 'white': 1252,\n",
       " 'male': 914,\n",
       " 'indian': 162,\n",
       " 'asian': 88,\n",
       " 'others': 88,\n",
       " 'black': 75}"
      ]
     },
     "execution_count": 120,
     "metadata": {},
     "output_type": "execute_result"
    }
   ],
   "source": [
    "dict_60"
   ]
  },
  {
   "cell_type": "code",
   "execution_count": 121,
   "metadata": {},
   "outputs": [
    {
     "data": {
      "text/plain": [
       "{'female': 466,\n",
       " 'indian': 63,\n",
       " 'white': 793,\n",
       " 'male': 502,\n",
       " 'asian': 47,\n",
       " 'black': 55,\n",
       " 'others': 9}"
      ]
     },
     "execution_count": 121,
     "metadata": {},
     "output_type": "execute_result"
    }
   ],
   "source": [
    "dict_80"
   ]
  },
  {
   "cell_type": "code",
   "execution_count": 122,
   "metadata": {},
   "outputs": [
    {
     "data": {
      "text/plain": [
       "{'female': 229,\n",
       " 'white': 255,\n",
       " 'black': 14,\n",
       " 'male': 114,\n",
       " 'indian': 21,\n",
       " 'asian': 51,\n",
       " 'others': 2}"
      ]
     },
     "execution_count": 122,
     "metadata": {},
     "output_type": "execute_result"
    }
   ],
   "source": [
    "dict_100"
   ]
  },
  {
   "cell_type": "code",
   "execution_count": 123,
   "metadata": {},
   "outputs": [
    {
     "data": {
      "text/plain": [
       "{'female': 3, 'black': 1, 'asian': 1, 'indian': 1}"
      ]
     },
     "execution_count": 123,
     "metadata": {},
     "output_type": "execute_result"
    }
   ],
   "source": [
    "dict_116"
   ]
  },
  {
   "cell_type": "code",
   "execution_count": null,
   "metadata": {},
   "outputs": [],
   "source": []
  }
 ],
 "metadata": {
  "kernelspec": {
   "display_name": "Python 3",
   "language": "python",
   "name": "python3"
  },
  "language_info": {
   "codemirror_mode": {
    "name": "ipython",
    "version": 3
   },
   "file_extension": ".py",
   "mimetype": "text/x-python",
   "name": "python",
   "nbconvert_exporter": "python",
   "pygments_lexer": "ipython3",
   "version": "3.7.3"
  }
 },
 "nbformat": 4,
 "nbformat_minor": 2
}
